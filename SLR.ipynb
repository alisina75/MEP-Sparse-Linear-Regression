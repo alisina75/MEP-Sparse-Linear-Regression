{
  "cells": [
    {
      "cell_type": "markdown",
      "metadata": {
        "id": "view-in-github",
        "colab_type": "text"
      },
      "source": [
        "<a href=\"https://colab.research.google.com/github/alisina75/MEP-Sparse-Linear-Regression/blob/main/SLR.ipynb\" target=\"_parent\"><img src=\"https://colab.research.google.com/assets/colab-badge.svg\" alt=\"Open In Colab\"/></a>"
      ]
    },
    {
      "cell_type": "code",
      "execution_count": null,
      "metadata": {
        "id": "ADD3qbqcyTEm"
      },
      "outputs": [],
      "source": [
        "import sys\n",
        "import os\n",
        "import numpy as np\n",
        "import pandas as pd\n",
        "import numpy.matlib\n",
        "\n",
        "\n",
        "import matplotlib.pyplot as plt\n",
        "import seaborn as sns\n",
        "\n",
        "from sklearn.impute import SimpleImputer\n",
        "from google.colab import files\n",
        "\n",
        "from os.path import dirname, join as pjoin\n",
        "import scipy.io as sio\n",
        "\n",
        "from scipy.optimize import minimize\n",
        "from scipy.optimize import Bounds\n",
        "from scipy.optimize import LinearConstraint\n",
        "\n",
        "import torch"
      ]
    },
    {
      "cell_type": "code",
      "execution_count": null,
      "metadata": {
        "colab": {
          "base_uri": "https://localhost:8080/"
        },
        "id": "SsRz5uDUymq9",
        "outputId": "ef6c0120-53f5-4c39-c378-228a639d59d7"
      },
      "outputs": [
        {
          "output_type": "stream",
          "name": "stdout",
          "text": [
            "Mounted at /content/drive\n"
          ]
        }
      ],
      "source": [
        "from google.colab import drive\n",
        "drive.mount('/content/drive')"
      ]
    },
    {
      "cell_type": "markdown",
      "metadata": {
        "id": "UbEccZW1zB-r"
      },
      "source": [
        "# This code generates examples for the Sparsity Problem"
      ]
    },
    {
      "cell_type": "code",
      "execution_count": null,
      "metadata": {
        "id": "64rJkjSl1_Az"
      },
      "outputs": [],
      "source": [
        "# np.random.seed(2)\n",
        "\n",
        "n = 30\n",
        "N = 60\n",
        "m = 3\n",
        "\n",
        "# Generating x vector\n",
        "\n",
        "x_original = 5* np.random.rand(m,1)\n",
        "\n",
        "# Generating A (size n x N)\n",
        "\n",
        "nr = n;\n",
        "nc = N;\n",
        "CondNumb = 3; # Desired condition number\n",
        "A = np.random.randint(10, size=(nr, nc))\n",
        "U, S1, V = np.linalg.svd(A);\n",
        "S = np.zeros((n,N))\n",
        "S[:n,:n] = np.diag(S1)\n",
        "S[S!=0] = np.linspace(CondNumb,1,np.minimum(nr,nc))\n",
        "A = U @ S @ V"
      ]
    },
    {
      "cell_type": "code",
      "execution_count": null,
      "metadata": {
        "colab": {
          "base_uri": "https://localhost:8080/",
          "height": 233
        },
        "id": "dlEaX46Q21iY",
        "outputId": "d159bd4a-9ba1-44ea-afdd-8bab50e070d2"
      },
      "outputs": [
        {
          "data": {
            "application/javascript": [
              "\n",
              "    async function download(id, filename, size) {\n",
              "      if (!google.colab.kernel.accessAllowed) {\n",
              "        return;\n",
              "      }\n",
              "      const div = document.createElement('div');\n",
              "      const label = document.createElement('label');\n",
              "      label.textContent = `Downloading \"${filename}\": `;\n",
              "      div.appendChild(label);\n",
              "      const progress = document.createElement('progress');\n",
              "      progress.max = size;\n",
              "      div.appendChild(progress);\n",
              "      document.body.appendChild(div);\n",
              "\n",
              "      const buffers = [];\n",
              "      let downloaded = 0;\n",
              "\n",
              "      const channel = await google.colab.kernel.comms.open(id);\n",
              "      // Send a message to notify the kernel that we're ready.\n",
              "      channel.send({})\n",
              "\n",
              "      for await (const message of channel.messages) {\n",
              "        // Send a message to notify the kernel that we're ready.\n",
              "        channel.send({})\n",
              "        if (message.buffers) {\n",
              "          for (const buffer of message.buffers) {\n",
              "            buffers.push(buffer);\n",
              "            downloaded += buffer.byteLength;\n",
              "            progress.value = downloaded;\n",
              "          }\n",
              "        }\n",
              "      }\n",
              "      const blob = new Blob(buffers, {type: 'application/binary'});\n",
              "      const a = document.createElement('a');\n",
              "      a.href = window.URL.createObjectURL(blob);\n",
              "      a.download = filename;\n",
              "      div.appendChild(a);\n",
              "      a.click();\n",
              "      div.remove();\n",
              "    }\n",
              "  "
            ],
            "text/plain": [
              "<IPython.core.display.Javascript object>"
            ]
          },
          "metadata": {},
          "output_type": "display_data"
        },
        {
          "data": {
            "application/javascript": [
              "download(\"download_6268721d-294a-4fa7-8e50-767304a73c81\", \"A1.png\", 20921)"
            ],
            "text/plain": [
              "<IPython.core.display.Javascript object>"
            ]
          },
          "metadata": {},
          "output_type": "display_data"
        },
        {
          "data": {
            "image/png": "[encoded data removed]",
            "text/plain": [
              "<Figure size 4320x216 with 2 Axes>"
            ]
          },
          "metadata": {},
          "output_type": "display_data"
        }
      ],
      "source": [
        "plt.imshow(A)\n",
        "plt.rcParams[\"figure.figsize\"] = (60,3)\n",
        "plt.tick_params(axis='both', which='major', labelsize=15)\n",
        "plt.xticks(np.arange(0,N,10))\n",
        "plt.yticks(np.arange(0,n,10))\n",
        "plt.title(r'$A_{(30 \\times 60)}$')\n",
        "cbar = plt.colorbar()\n",
        "tick_font_size = 10\n",
        "cbar.ax.tick_params(labelsize=tick_font_size)\n",
        "plt.savefig(\"A1.png\")\n",
        "files.download(\"A1.png\")\n",
        "plt.show()"
      ]
    },
    {
      "cell_type": "code",
      "execution_count": null,
      "metadata": {
        "id": "K2dnS-Ql3wA0"
      },
      "outputs": [],
      "source": [
        "# Generating random V (size N x m)\n",
        "\n",
        "# np.random.seed(1)\n",
        "V = np.zeros((N,m))\n",
        "for i in range(m):\n",
        "    V[:,i] = np.random.rand(N)\n",
        "    loc = np.argmax(V[:,i])\n",
        "    V[:,i] = 0\n",
        "    V[loc,i] = 1\n",
        "\n",
        "# Measurement vector Y\n",
        "\n",
        "error_bound = 0.01\n",
        "num_measures = 10\n",
        "# Y = np.zeros((n, num_measures))\n",
        "# for i in range(num_measures):\n",
        "  # Y[:,i] = (A @ V @ x_original + error_bound * np.random.rand(n,1)).flatten();\n",
        "\n",
        "Y = A @ V @ x_original + error_bound * np.random.rand(n,1)"
      ]
    },
    {
      "cell_type": "markdown",
      "metadata": {
        "id": "wok-FZk7lFBI"
      },
      "source": [
        "# Example Used in MATLAB simulations"
      ]
    },
    {
      "cell_type": "code",
      "execution_count": null,
      "metadata": {
        "colab": {
          "base_uri": "https://localhost:8080/",
          "height": 167
        },
        "id": "wuHudIvmlJ74",
        "outputId": "7b5828ef-ce68-47ef-cc66-71b75261ba40"
      },
      "outputs": [
        {
          "data": {
            "image/png": "[encoded data removed]",
            "text/plain": [
              "<Figure size 1800x180 with 2 Axes>"
            ]
          },
          "metadata": {},
          "output_type": "display_data"
        }
      ],
      "source": [
        "mat_fname_sparsity = '/content/drive/MyDrive/SLR/Sparsity_A100x6.mat'\n",
        "mat_contents_SLR = sio.loadmat(mat_fname_sparsity)\n",
        "A = mat_contents_SLR['A']\n",
        "Y = mat_contents_SLR['Y']\n",
        "x_original = mat_contents_SLR['x_original']\n",
        "\n",
        "mat_fname_LossComp = '/content/drive/MyDrive/SLR/Loss_comp.mat'\n",
        "mat_contents_LossComp = sio.loadmat(mat_fname_LossComp)\n",
        "LossComp = mat_contents_LossComp['L_plot']\n",
        "\n",
        "plt.imshow(A)\n",
        "plt.rcParams[\"figure.figsize\"] = (25,2.5)\n",
        "plt.colorbar()\n",
        "plt.show()"
      ]
    },
    {
      "cell_type": "markdown",
      "metadata": {
        "id": "SGJn6jrREymj"
      },
      "source": [
        "# Defining Free Energy function and its derivative"
      ]
    },
    {
      "cell_type": "code",
      "execution_count": null,
      "metadata": {
        "id": "syOwOpGi-_wQ"
      },
      "outputs": [],
      "source": [
        "def free_energy(z,Y,A,m,La,N,T):\n",
        "    x = np.zeros((m))\n",
        "    Q = np.zeros((N,m))\n",
        "    x[0:m] = z[0:m]\n",
        "    i , k = m , 0\n",
        "    while i < len(z):\n",
        "      Q[:,k] = z[i:i+N]\n",
        "      i += N\n",
        "      k += 1\n",
        "\n",
        "    Qb = Q\n",
        "    x = x.reshape(-1,1)\n",
        "    F = np.linalg.norm(Y - A @ Q @ x)**2 + x.T @ np.diag((La.T @ (Q * (1-Q)))[0]) @ x + T*np.ones((1,N))@(Qb*np.log(Qb) + (1-Qb)*np.log(1-Qb)) @ np.ones((m,1))\n",
        "    return F.flatten()"
      ]
    },
    {
      "cell_type": "code",
      "execution_count": null,
      "metadata": {
        "id": "MAjq_frRHI-H"
      },
      "outputs": [],
      "source": [
        "def free_energy_grad(z,Y,A,m,La,N,T):\n",
        "    x = np.zeros((m))\n",
        "    Q = np.zeros((N,m))\n",
        "    x[0:m] = z[0:m]\n",
        "    i , k = m , 0\n",
        "    while i < len(z):\n",
        "      Q[:,k] = z[i:i+N]\n",
        "      i += N\n",
        "      k += 1\n",
        "\n",
        "    Qb = Q\n",
        "    x = x.reshape(-1,1)\n",
        "    dFdQ = T*np.log(Q/(1-Q)) - 2*A.T@Y@x.T + 2*(A.T @ A) @ Q @ (x @ x.T) + (La @ (x*x).T)*(1 - 2*Q)\n",
        "    dFdx = -2*(Y - A @ Q @ x).T@ A @ Q + 2*x.T @ np.diag((La.T @ (Q * (1-Q)))[0])\n",
        "    grad = numpy.concatenate((dFdx.flatten(),np.matrix.flatten(dFdQ, order = 'F')))\n",
        "    return grad"
      ]
    },
    {
      "cell_type": "markdown",
      "metadata": {
        "id": "u1uBZv4xQyQ0"
      },
      "source": [
        "## MEP_based SLR functional form"
      ]
    },
    {
      "cell_type": "code",
      "execution_count": null,
      "metadata": {
        "id": "uGqzt6OtQsem"
      },
      "outputs": [],
      "source": [
        "def MEP_SLR(A,Y,m,eps,Tmax):\n",
        "\n",
        "    Loss = []\n",
        "    T_iters = []\n",
        "    Y = Y.reshape(-1,1)\n",
        "\n",
        "    # Variables\n",
        "\n",
        "    N = A.shape[1]\n",
        "    Q = (1/N) * np.ones((N,m))\n",
        "    La = np.zeros((N,1))\n",
        "\n",
        "    for i in range(N):\n",
        "      La[i] = A[:,i].T @ A[:,i]\n",
        "\n",
        "    x = np.linalg.pinv((A @ Q).T @ A @ Q + np.diag((La.T @ (Q * (1-Q)))[0])) @ (A @ Q).T @ Y\n",
        "\n",
        "    # Linear constraints and bounds\n",
        "\n",
        "    beq = np.ones((m))\n",
        "    Aeq = np.zeros((m,m+N*m))\n",
        "    for i in range(m):\n",
        "      Aeq[i,m+N*i:m+N*(i+1)] = 1\n",
        "\n",
        "    lb = np.zeros((m+N*m))\n",
        "    lb[0:m] = -1e5*np.ones((m))\n",
        "\n",
        "    ub = np.ones((m+N*m))\n",
        "    ub[0:m] = 1e5*np.ones((m))\n",
        "\n",
        "    # Bounds\n",
        "    bounds = Bounds(lb, ub)\n",
        "    # Linear constraint\n",
        "    linear_constraint = LinearConstraint(Aeq, beq, beq)\n",
        "    \n",
        "    # Annealing parameters\n",
        "\n",
        "    T = Tmax\n",
        "    alpha = 0.9\n",
        "\n",
        "    # Annealling\n",
        "\n",
        "    while np.amin(np.amax(Q,0)) < 1 - eps:\n",
        "        print(\"T = \", str(T))\n",
        "        z0 = np.zeros((m+N*m))\n",
        "        z0[0:m] = x.flatten()\n",
        "        i , k = m , 0\n",
        "        while i < len(z0):\n",
        "            z0[i:i+N] = Q[:,k]\n",
        "            i += N\n",
        "            k += 1\n",
        "\n",
        "        res = minimize(free_energy, z0, method='SLSQP', jac = free_energy_grad,\n",
        "                    constraints = linear_constraint, args=(Y,A,m,La,N,T),\n",
        "                    options={'verbose': 1}, bounds=bounds)\n",
        "        z = res.x\n",
        "        x[0:m]  = z[0:m].reshape(-1,1)\n",
        "        Q = np.ones((N,m))\n",
        "        i , k = m , 0\n",
        "        while i < len(z):\n",
        "            Q[:,k] = z[i:i+N]\n",
        "            i += N\n",
        "            k += 1\n",
        "\n",
        "        print('Maximum p in each column: '+ str(np.amax(Q,0)))\n",
        "        T = T* alpha\n",
        "        err = np.linalg.norm(Y - A @ Q @ x)\n",
        "        Loss.append(err.item())\n",
        "        T_iters.append(T)\n",
        "\n",
        "    return x , Q , Loss , T_iters"
      ]
    },
    {
      "cell_type": "code",
      "execution_count": null,
      "metadata": {
        "id": "_-fqKHE7Q4Sb"
      },
      "outputs": [],
      "source": [
        "x_test , Q_test , Loss_test , T_iters_test = MEP_SLR(A,Y,m = 3,eps = 0.01, Tmax = 10)"
      ]
    },
    {
      "cell_type": "code",
      "execution_count": null,
      "metadata": {
        "colab": {
          "base_uri": "https://localhost:8080/"
        },
        "id": "MN2_-V9M5oNo",
        "outputId": "ddccfdb6-d09a-4b92-f31e-ffbe1ee916da"
      },
      "outputs": [
        {
          "name": "stdout",
          "output_type": "stream",
          "text": [
            "Results for 1th error realization\n",
            "T =  20\n"
          ]
        },
        {
          "name": "stderr",
          "output_type": "stream",
          "text": [
            "<ipython-input-18-ae03b9924fc6>:53: OptimizeWarning: Unknown solver options: verbose\n",
            "  res = minimize(free_energy, z0, method='SLSQP', jac = free_energy_grad,\n",
            "<ipython-input-16-225926689667>:13: RuntimeWarning: divide by zero encountered in log\n",
            "  F = np.linalg.norm(Y - A @ Q @ x)**2 + x.T @ np.diag((La.T @ (Q * (1-Q)))[0]) @ x + T*np.ones((1,N))@(Qb*np.log(Qb) + (1-Qb)*np.log(1-Qb)) @ np.ones((m,1))\n",
            "<ipython-input-16-225926689667>:13: RuntimeWarning: invalid value encountered in multiply\n",
            "  F = np.linalg.norm(Y - A @ Q @ x)**2 + x.T @ np.diag((La.T @ (Q * (1-Q)))[0]) @ x + T*np.ones((1,N))@(Qb*np.log(Qb) + (1-Qb)*np.log(1-Qb)) @ np.ones((m,1))\n"
          ]
        },
        {
          "name": "stdout",
          "output_type": "stream",
          "text": [
            "Maximum p in each column: [0.03729233]\n",
            "T =  18.0\n",
            "Maximum p in each column: [0.04304511]\n",
            "T =  16.2\n",
            "Maximum p in each column: [0.05068475]\n",
            "T =  14.58\n",
            "Maximum p in each column: [0.06517415]\n",
            "T =  13.122\n",
            "Maximum p in each column: [0.09593562]\n",
            "T =  11.809800000000001\n",
            "Maximum p in each column: [0.44140931]\n",
            "T =  10.628820000000001\n",
            "Maximum p in each column: [0.52621265]\n",
            "T =  9.565938000000001\n",
            "Maximum p in each column: [0.55105185]\n",
            "T =  8.6093442\n",
            "Maximum p in each column: [0.5691495]\n",
            "T =  7.748409780000001\n",
            "Maximum p in each column: [0.58275225]\n",
            "T =  6.973568802000001\n",
            "Maximum p in each column: [0.59628035]\n",
            "T =  6.276211921800001\n",
            "Maximum p in each column: [0.61094677]\n",
            "T =  5.64859072962\n",
            "Maximum p in each column: [0.62822601]\n",
            "T =  5.083731656658\n",
            "Maximum p in each column: [0.64818211]\n",
            "T =  4.5753584909922\n",
            "Maximum p in each column: [0.67668199]\n",
            "T =  4.11782264189298\n",
            "Maximum p in each column: [0.7005993]\n",
            "T =  3.706040377703682\n",
            "Maximum p in each column: [0.73085076]\n",
            "T =  3.3354363399333136\n",
            "Maximum p in each column: [0.76485981]\n",
            "T =  3.0018927059399823\n",
            "Maximum p in each column: [0.80169915]\n",
            "T =  2.701703435345984\n",
            "Maximum p in each column: [0.83883584]\n",
            "T =  2.4315330918113855\n",
            "Maximum p in each column: [0.87524382]\n",
            "T =  2.188379782630247\n",
            "Maximum p in each column: [0.90917891]\n",
            "T =  1.9695418043672224\n",
            "Maximum p in each column: [0.93509226]\n",
            "T =  1.7725876239305\n",
            "Maximum p in each column: [0.95497013]\n",
            "T =  1.5953288615374501\n",
            "Maximum p in each column: [0.9697905]\n",
            "T =  1.435795975383705\n",
            "Maximum p in each column: [0.9804375]\n",
            "T =  1.2922163778453346\n",
            "Maximum p in each column: [0.9878127]\n",
            "T =  1.1629947400608012\n",
            "Maximum p in each column: [0.99271338]\n",
            "Results for 2th error realization\n",
            "T =  20\n",
            "Maximum p in each column: [0.03728836]\n",
            "T =  18.0\n",
            "Maximum p in each column: [0.04270737]\n",
            "T =  16.2\n",
            "Maximum p in each column: [0.05123266]\n",
            "T =  14.58\n",
            "Maximum p in each column: [0.06552449]\n",
            "T =  13.122\n",
            "Maximum p in each column: [0.09662291]\n",
            "T =  11.809800000000001\n",
            "Maximum p in each column: [0.44247725]\n",
            "T =  10.628820000000001\n",
            "Maximum p in each column: [0.52419911]\n",
            "T =  9.565938000000001\n",
            "Maximum p in each column: [0.54925661]\n",
            "T =  8.6093442\n",
            "Maximum p in each column: [0.56693273]\n",
            "T =  7.748409780000001\n",
            "Maximum p in each column: [0.58022166]\n",
            "T =  6.973568802000001\n",
            "Maximum p in each column: [0.59296824]\n",
            "T =  6.276211921800001\n",
            "Maximum p in each column: [0.60629164]\n",
            "T =  5.64859072962\n",
            "Maximum p in each column: [0.6323507]\n",
            "T =  5.083731656658\n",
            "Maximum p in each column: [0.64188945]\n",
            "T =  4.5753584909922\n",
            "Maximum p in each column: [0.66930373]\n",
            "T =  4.11782264189298\n",
            "Maximum p in each column: [0.69290369]\n",
            "T =  3.706040377703682\n",
            "Maximum p in each column: [0.72293503]\n",
            "T =  3.3354363399333136\n",
            "Maximum p in each column: [0.75641384]\n",
            "T =  3.0018927059399823\n",
            "Maximum p in each column: [0.79345071]\n",
            "T =  2.701703435345984\n",
            "Maximum p in each column: [0.83159782]\n",
            "T =  2.4315330918113855\n",
            "Maximum p in each column: [0.86933026]\n",
            "T =  2.188379782630247\n",
            "Maximum p in each column: [0.90366015]\n",
            "T =  1.9695418043672224\n",
            "Maximum p in each column: [0.93097383]\n",
            "T =  1.7725876239305\n",
            "Maximum p in each column: [0.95191524]\n",
            "T =  1.5953288615374501\n",
            "Maximum p in each column: [0.96759439]\n",
            "T =  1.435795975383705\n",
            "Maximum p in each column: [0.97890634]\n",
            "T =  1.2922163778453346\n",
            "Maximum p in each column: [0.9867791]\n",
            "T =  1.1629947400608012\n",
            "Maximum p in each column: [0.9920399]\n",
            "Results for 3th error realization\n",
            "T =  20\n",
            "Maximum p in each column: [0.03724075]\n",
            "T =  18.0\n",
            "Maximum p in each column: [0.04251842]\n",
            "T =  16.2\n",
            "Maximum p in each column: [0.05072251]\n",
            "T =  14.58\n",
            "Maximum p in each column: [0.06484838]\n",
            "T =  13.122\n",
            "Maximum p in each column: [0.09574013]\n",
            "T =  11.809800000000001\n",
            "Maximum p in each column: [0.44272136]\n",
            "T =  10.628820000000001\n",
            "Maximum p in each column: [0.52900277]\n",
            "T =  9.565938000000001\n",
            "Maximum p in each column: [0.5564608]\n",
            "T =  8.6093442\n",
            "Maximum p in each column: [0.57382935]\n",
            "T =  7.748409780000001\n",
            "Maximum p in each column: [0.58663366]\n",
            "T =  6.973568802000001\n",
            "Maximum p in each column: [0.60028951]\n",
            "T =  6.276211921800001\n",
            "Maximum p in each column: [0.61672892]\n",
            "T =  5.64859072962\n",
            "Maximum p in each column: [0.63499627]\n",
            "T =  5.083731656658\n",
            "Maximum p in each column: [0.65550485]\n",
            "T =  4.5753584909922\n",
            "Maximum p in each column: [0.68535187]\n",
            "T =  4.11782264189298\n",
            "Maximum p in each column: [0.7097543]\n",
            "T =  3.706040377703682\n",
            "Maximum p in each column: [0.74003731]\n",
            "T =  3.3354363399333136\n",
            "Maximum p in each column: [0.77393648]\n",
            "T =  3.0018927059399823\n",
            "Maximum p in each column: [0.81065417]\n",
            "T =  2.701703435345984\n",
            "Maximum p in each column: [0.84784575]\n",
            "T =  2.4315330918113855\n",
            "Maximum p in each column: [0.88275212]\n",
            "T =  2.188379782630247\n",
            "Maximum p in each column: [0.91530704]\n",
            "T =  1.9695418043672224\n",
            "Maximum p in each column: [0.93968547]\n",
            "T =  1.7725876239305\n",
            "Maximum p in each column: [0.95837175]\n",
            "T =  1.5953288615374501\n",
            "Maximum p in each column: [0.9722306]\n",
            "T =  1.435795975383705\n",
            "Maximum p in each column: [0.98213319]\n",
            "T =  1.2922163778453346\n",
            "Maximum p in each column: [0.98893259]\n",
            "T =  1.1629947400608012\n",
            "Maximum p in each column: [0.99345083]\n",
            "Results for 4th error realization\n",
            "T =  20\n",
            "Maximum p in each column: [0.03707625]\n",
            "T =  18.0\n",
            "Maximum p in each column: [0.0423927]\n",
            "T =  16.2\n",
            "Maximum p in each column: [0.05077097]\n",
            "T =  14.58\n",
            "Maximum p in each column: [0.06440288]\n",
            "T =  13.122\n",
            "Maximum p in each column: [0.09469934]\n",
            "T =  11.809800000000001\n",
            "Maximum p in each column: [0.43475753]\n",
            "T =  10.628820000000001\n",
            "Maximum p in each column: [0.52130562]\n",
            "T =  9.565938000000001\n",
            "Maximum p in each column: [0.54768565]\n",
            "T =  8.6093442\n",
            "Maximum p in each column: [0.56088755]\n",
            "T =  7.748409780000001\n",
            "Maximum p in each column: [0.57524353]\n",
            "T =  6.973568802000001\n",
            "Maximum p in each column: [0.58824389]\n",
            "T =  6.276211921800001\n",
            "Maximum p in each column: [0.60225577]\n",
            "T =  5.64859072962\n",
            "Maximum p in each column: [0.61818147]\n",
            "T =  5.083731656658\n",
            "Maximum p in each column: [0.63631426]\n",
            "T =  4.5753584909922\n",
            "Maximum p in each column: [0.66323627]\n",
            "T =  4.11782264189298\n",
            "Maximum p in each column: [0.68581835]\n",
            "T =  3.706040377703682\n",
            "Maximum p in each column: [0.71534304]\n",
            "T =  3.3354363399333136\n",
            "Maximum p in each column: [0.7489636]\n",
            "T =  3.0018927059399823\n",
            "Maximum p in each column: [0.78550987]\n",
            "T =  2.701703435345984\n",
            "Maximum p in each column: [0.82466696]\n",
            "T =  2.4315330918113855\n",
            "Maximum p in each column: [0.86263246]\n",
            "T =  2.188379782630247\n",
            "Maximum p in each column: [0.89756195]\n",
            "T =  1.9695418043672224\n",
            "Maximum p in each column: [0.92663515]\n",
            "T =  1.7725876239305\n",
            "Maximum p in each column: [0.94866975]\n",
            "T =  1.5953288615374501\n",
            "Maximum p in each column: [0.96527585]\n",
            "T =  1.435795975383705\n",
            "Maximum p in each column: [0.97725605]\n",
            "T =  1.2922163778453346\n",
            "Maximum p in each column: [0.98565723]\n",
            "T =  1.1629947400608012\n",
            "Maximum p in each column: [0.99130361]\n",
            "Results for 5th error realization\n",
            "T =  20\n",
            "Maximum p in each column: [0.03714876]\n",
            "T =  18.0\n",
            "Maximum p in each column: [0.04259713]\n",
            "T =  16.2\n",
            "Maximum p in each column: [0.05093449]\n",
            "T =  14.58\n",
            "Maximum p in each column: [0.06465411]\n",
            "T =  13.122\n",
            "Maximum p in each column: [0.09401665]\n",
            "T =  11.809800000000001\n",
            "Maximum p in each column: [0.42937996]\n",
            "T =  10.628820000000001\n",
            "Maximum p in each column: [0.52359764]\n",
            "T =  9.565938000000001\n",
            "Maximum p in each column: [0.55141544]\n",
            "T =  8.6093442\n",
            "Maximum p in each column: [0.56750185]\n",
            "T =  7.748409780000001\n",
            "Maximum p in each column: [0.58261056]\n",
            "T =  6.973568802000001\n",
            "Maximum p in each column: [0.59405766]\n",
            "T =  6.276211921800001\n",
            "Maximum p in each column: [0.60942133]\n",
            "T =  5.64859072962\n",
            "Maximum p in each column: [0.62492477]\n",
            "T =  5.083731656658\n",
            "Maximum p in each column: [0.65134199]\n",
            "T =  4.5753584909922\n",
            "Maximum p in each column: [0.66863747]\n",
            "T =  4.11782264189298\n",
            "Maximum p in each column: [0.69913187]\n",
            "T =  3.706040377703682\n",
            "Maximum p in each column: [0.72770371]\n",
            "T =  3.3354363399333136\n",
            "Maximum p in each column: [0.76068538]\n",
            "T =  3.0018927059399823\n",
            "Maximum p in each column: [0.79735229]\n",
            "T =  2.701703435345984\n",
            "Maximum p in each column: [0.83540021]\n",
            "T =  2.4315330918113855\n",
            "Maximum p in each column: [0.87258421]\n",
            "T =  2.188379782630247\n",
            "Maximum p in each column: [0.90599949]\n",
            "T =  1.9695418043672224\n",
            "Maximum p in each column: [0.93291075]\n",
            "T =  1.7725876239305\n",
            "Maximum p in each column: [0.95333615]\n",
            "T =  1.5953288615374501\n",
            "Maximum p in each column: [0.96860563]\n",
            "T =  1.435795975383705\n",
            "Maximum p in each column: [0.97960651]\n",
            "T =  1.2922163778453346\n",
            "Maximum p in each column: [0.98724992]\n",
            "T =  1.1629947400608012\n",
            "Maximum p in each column: [0.99234594]\n",
            "Results for 6th error realization\n",
            "T =  20\n",
            "Maximum p in each column: [0.03713317]\n",
            "T =  18.0\n",
            "Maximum p in each column: [0.04261648]\n",
            "T =  16.2\n",
            "Maximum p in each column: [0.05035839]\n",
            "T =  14.58\n",
            "Maximum p in each column: [0.06428091]\n",
            "T =  13.122\n",
            "Maximum p in each column: [0.0938948]\n",
            "T =  11.809800000000001\n",
            "Maximum p in each column: [0.43565854]\n",
            "T =  10.628820000000001\n",
            "Maximum p in each column: [0.52301933]\n",
            "T =  9.565938000000001\n",
            "Maximum p in each column: [0.54851717]\n",
            "T =  8.6093442\n",
            "Maximum p in each column: [0.56550464]\n",
            "T =  7.748409780000001\n",
            "Maximum p in each column: [0.57865549]\n",
            "T =  6.973568802000001\n",
            "Maximum p in each column: [0.59131188]\n",
            "T =  6.276211921800001\n",
            "Maximum p in each column: [0.60546422]\n",
            "T =  5.64859072962\n",
            "Maximum p in each column: [0.62194601]\n",
            "T =  5.083731656658\n",
            "Maximum p in each column: [0.64143469]\n",
            "T =  4.5753584909922\n",
            "Maximum p in each column: [0.66839337]\n",
            "T =  4.11782264189298\n",
            "Maximum p in each column: [0.69183111]\n",
            "T =  3.706040377703682\n",
            "Maximum p in each column: [0.7217309]\n",
            "T =  3.3354363399333136\n",
            "Maximum p in each column: [0.75544057]\n",
            "T =  3.0018927059399823\n",
            "Maximum p in each column: [0.79215729]\n",
            "T =  2.701703435345984\n",
            "Maximum p in each column: [0.83063642]\n",
            "T =  2.4315330918113855\n",
            "Maximum p in each column: [0.86812869]\n",
            "T =  2.188379782630247\n",
            "Maximum p in each column: [0.90237023]\n",
            "T =  1.9695418043672224\n",
            "Maximum p in each column: [0.93012626]\n",
            "T =  1.7725876239305\n",
            "Maximum p in each column: [0.95126937]\n",
            "T =  1.5953288615374501\n",
            "Maximum p in each column: [0.9671199]\n",
            "T =  1.435795975383705\n",
            "Maximum p in each column: [0.97857004]\n",
            "T =  1.2922163778453346\n",
            "Maximum p in each column: [0.98654941]\n",
            "T =  1.1629947400608012\n",
            "Maximum p in each column: [0.99188892]\n",
            "Results for 7th error realization\n",
            "T =  20\n",
            "Maximum p in each column: [0.0368133]\n",
            "T =  18.0\n",
            "Maximum p in each column: [0.04196753]\n",
            "T =  16.2\n",
            "Maximum p in each column: [0.05013612]\n",
            "T =  14.58\n",
            "Maximum p in each column: [0.06331976]\n",
            "T =  13.122\n",
            "Maximum p in each column: [0.09168366]\n",
            "T =  11.809800000000001\n",
            "Maximum p in each column: [0.41425746]\n",
            "T =  10.628820000000001\n",
            "Maximum p in each column: [0.52131618]\n",
            "T =  9.565938000000001\n",
            "Maximum p in each column: [0.54989188]\n",
            "T =  8.6093442\n",
            "Maximum p in each column: [0.56422231]\n",
            "T =  7.748409780000001\n",
            "Maximum p in each column: [0.57968503]\n",
            "T =  6.973568802000001\n",
            "Maximum p in each column: [0.59217775]\n",
            "T =  6.276211921800001\n",
            "Maximum p in each column: [0.6073215]\n",
            "T =  5.64859072962\n",
            "Maximum p in each column: [0.62355206]\n",
            "T =  5.083731656658\n",
            "Maximum p in each column: [0.64302128]\n",
            "T =  4.5753584909922\n",
            "Maximum p in each column: [0.67103808]\n",
            "T =  4.11782264189298\n",
            "Maximum p in each column: [0.69385835]\n",
            "T =  3.706040377703682\n",
            "Maximum p in each column: [0.72385292]\n",
            "T =  3.3354363399333136\n",
            "Maximum p in each column: [0.75738943]\n",
            "T =  3.0018927059399823\n",
            "Maximum p in each column: [0.79392977]\n",
            "T =  2.701703435345984\n",
            "Maximum p in each column: [0.8324755]\n",
            "T =  2.4315330918113855\n",
            "Maximum p in each column: [0.86935446]\n",
            "T =  2.188379782630247\n",
            "Maximum p in each column: [0.90296206]\n",
            "T =  1.9695418043672224\n",
            "Maximum p in each column: [0.93074398]\n",
            "T =  1.7725876239305\n",
            "Maximum p in each column: [0.95170299]\n",
            "T =  1.5953288615374501\n",
            "Maximum p in each column: [0.96741606]\n",
            "T =  1.435795975383705\n",
            "Maximum p in each column: [0.978769]\n",
            "T =  1.2922163778453346\n",
            "Maximum p in each column: [0.98668032]\n",
            "T =  1.1629947400608012\n",
            "Maximum p in each column: [0.99197281]\n",
            "Results for 8th error realization\n",
            "T =  20\n",
            "Maximum p in each column: [0.03715369]\n",
            "T =  18.0\n",
            "Maximum p in each column: [0.04250523]\n",
            "T =  16.2\n",
            "Maximum p in each column: [0.05042208]\n",
            "T =  14.58\n",
            "Maximum p in each column: [0.06463433]\n",
            "T =  13.122\n",
            "Maximum p in each column: [0.09518705]\n",
            "T =  11.809800000000001\n",
            "Maximum p in each column: [0.4406377]\n",
            "T =  10.628820000000001\n",
            "Maximum p in each column: [0.52527173]\n",
            "T =  9.565938000000001\n",
            "Maximum p in each column: [0.55221331]\n",
            "T =  8.6093442\n",
            "Maximum p in each column: [0.56590623]\n",
            "T =  7.748409780000001\n",
            "Maximum p in each column: [0.58147618]\n",
            "T =  6.973568802000001\n",
            "Maximum p in each column: [0.59411461]\n",
            "T =  6.276211921800001\n",
            "Maximum p in each column: [0.60930389]\n",
            "T =  5.64859072962\n",
            "Maximum p in each column: [0.62606962]\n",
            "T =  5.083731656658\n",
            "Maximum p in each column: [0.64520633]\n",
            "T =  4.5753584909922\n",
            "Maximum p in each column: [0.67424634]\n",
            "T =  4.11782264189298\n",
            "Maximum p in each column: [0.69782639]\n",
            "T =  3.706040377703682\n",
            "Maximum p in each column: [0.72800887]\n",
            "T =  3.3354363399333136\n",
            "Maximum p in each column: [0.76171726]\n",
            "T =  3.0018927059399823\n",
            "Maximum p in each column: [0.79839438]\n",
            "T =  2.701703435345984\n",
            "Maximum p in each column: [0.83644111]\n",
            "T =  2.4315330918113855\n",
            "Maximum p in each column: [0.87287531]\n",
            "T =  2.188379782630247\n",
            "Maximum p in each column: [0.90722904]\n",
            "T =  1.9695418043672224\n",
            "Maximum p in each column: [0.93358445]\n",
            "T =  1.7725876239305\n",
            "Maximum p in each column: [0.95384722]\n",
            "T =  1.5953288615374501\n",
            "Maximum p in each column: [0.96898166]\n",
            "T =  1.435795975383705\n",
            "Maximum p in each column: [0.97987292]\n",
            "T =  1.2922163778453346\n",
            "Maximum p in each column: [0.98743161]\n",
            "T =  1.1629947400608012\n",
            "Maximum p in each column: [0.99246524]\n",
            "Results for 9th error realization\n",
            "T =  20\n",
            "Maximum p in each column: [0.03721454]\n",
            "T =  18.0\n",
            "Maximum p in each column: [0.04247922]\n",
            "T =  16.2\n",
            "Maximum p in each column: [0.05025911]\n",
            "T =  14.58\n",
            "Maximum p in each column: [0.06440983]\n",
            "T =  13.122\n",
            "Maximum p in each column: [0.09375018]\n",
            "T =  11.809800000000001\n",
            "Maximum p in each column: [0.42916422]\n",
            "T =  10.628820000000001\n",
            "Maximum p in each column: [0.52452514]\n",
            "T =  9.565938000000001\n",
            "Maximum p in each column: [0.55246618]\n",
            "T =  8.6093442\n",
            "Maximum p in each column: [0.56854735]\n",
            "T =  7.748409780000001\n",
            "Maximum p in each column: [0.58258938]\n",
            "T =  6.973568802000001\n",
            "Maximum p in each column: [0.59657551]\n",
            "T =  6.276211921800001\n",
            "Maximum p in each column: [0.61125656]\n",
            "T =  5.64859072962\n",
            "Maximum p in each column: [0.62753899]\n",
            "T =  5.083731656658\n",
            "Maximum p in each column: [0.65549494]\n",
            "T =  4.5753584909922\n",
            "Maximum p in each column: [0.67117681]\n",
            "T =  4.11782264189298\n",
            "Maximum p in each column: [0.70226937]\n",
            "T =  3.706040377703682\n",
            "Maximum p in each column: [0.73081629]\n",
            "T =  3.3354363399333136\n",
            "Maximum p in each column: [0.76382979]\n",
            "T =  3.0018927059399823\n",
            "Maximum p in each column: [0.80046221]\n",
            "T =  2.701703435345984\n",
            "Maximum p in each column: [0.83787277]\n",
            "T =  2.4315330918113855\n",
            "Maximum p in each column: [0.87505044]\n",
            "T =  2.188379782630247\n",
            "Maximum p in each column: [0.90843468]\n",
            "T =  1.9695418043672224\n",
            "Maximum p in each column: [0.93447065]\n",
            "T =  1.7725876239305\n",
            "Maximum p in each column: [0.95448872]\n",
            "T =  1.5953288615374501\n",
            "Maximum p in each column: [0.96943408]\n",
            "T =  1.435795975383705\n",
            "Maximum p in each column: [0.98018407]\n",
            "T =  1.2922163778453346\n",
            "Maximum p in each column: [0.98761867]\n",
            "T =  1.1629947400608012\n",
            "Maximum p in each column: [0.9925991]\n",
            "Results for 10th error realization\n",
            "T =  20\n",
            "Maximum p in each column: [0.037174]\n",
            "T =  18.0\n",
            "Maximum p in each column: [0.04261089]\n",
            "T =  16.2\n",
            "Maximum p in each column: [0.050699]\n",
            "T =  14.58\n",
            "Maximum p in each column: [0.06420704]\n",
            "T =  13.122\n",
            "Maximum p in each column: [0.09382223]\n",
            "T =  11.809800000000001\n",
            "Maximum p in each column: [0.42360007]\n",
            "T =  10.628820000000001\n",
            "Maximum p in each column: [0.51908775]\n",
            "T =  9.565938000000001\n",
            "Maximum p in each column: [0.54618246]\n",
            "T =  8.6093442\n",
            "Maximum p in each column: [0.55960141]\n",
            "T =  7.748409780000001\n",
            "Maximum p in each column: [0.57354698]\n",
            "T =  6.973568802000001\n",
            "Maximum p in each column: [0.58622667]\n",
            "T =  6.276211921800001\n",
            "Maximum p in each column: [0.60018035]\n",
            "T =  5.64859072962\n",
            "Maximum p in each column: [0.61593538]\n",
            "T =  5.083731656658\n",
            "Maximum p in each column: [0.63414425]\n",
            "T =  4.5753584909922\n",
            "Maximum p in each column: [0.66001311]\n",
            "T =  4.11782264189298\n",
            "Maximum p in each column: [0.68268957]\n",
            "T =  3.706040377703682\n",
            "Maximum p in each column: [0.71203263]\n",
            "T =  3.3354363399333136\n",
            "Maximum p in each column: [0.74547864]\n",
            "T =  3.0018927059399823\n",
            "Maximum p in each column: [0.78203175]\n",
            "T =  2.701703435345984\n",
            "Maximum p in each column: [0.82129958]\n",
            "T =  2.4315330918113855\n",
            "Maximum p in each column: [0.85927925]\n",
            "T =  2.188379782630247\n",
            "Maximum p in each column: [0.89531234]\n",
            "T =  1.9695418043672224\n",
            "Maximum p in each column: [0.92464543]\n",
            "T =  1.7725876239305\n",
            "Maximum p in each column: [0.94716228]\n",
            "T =  1.5953288615374501\n",
            "Maximum p in each column: [0.96417721]\n",
            "T =  1.435795975383705\n",
            "Maximum p in each column: [0.97647965]\n",
            "T =  1.2922163778453346\n",
            "Maximum p in each column: [0.98512687]\n",
            "T =  1.1629947400608012\n",
            "Maximum p in each column: [0.9909535]\n"
          ]
        }
      ],
      "source": [
        "xs = []\n",
        "Losses = []\n",
        "Qs = []\n",
        "for i in range(num_measures):\n",
        "  print('Results for ' +str(i+1) + 'th error realization')\n",
        "  x_test , Q_test , Loss_test , T_iters_test = MEP_SLR(A, Y[:,i], m = 1, eps = 0.01, Tmax = 20)\n",
        "  Qs.append(Q_test)\n",
        "  Losses.append(Loss_test)\n",
        "  xs.append(x_test)"
      ]
    },
    {
      "cell_type": "code",
      "execution_count": null,
      "metadata": {
        "id": "l5O0FJGaAElP"
      },
      "outputs": [],
      "source": [
        "xs_m1 = xs\n",
        "Qs_m1 = Qs\n",
        "Losses_m1 = Losses"
      ]
    },
    {
      "cell_type": "code",
      "execution_count": null,
      "metadata": {
        "colab": {
          "base_uri": "https://localhost:8080/",
          "height": 536
        },
        "id": "CIhrsFpKCtpg",
        "outputId": "ff3420d1-7128-4c81-a5f8-5118acba4065"
      },
      "outputs": [
        {
          "data": {
            "application/javascript": [
              "\n",
              "    async function download(id, filename, size) {\n",
              "      if (!google.colab.kernel.accessAllowed) {\n",
              "        return;\n",
              "      }\n",
              "      const div = document.createElement('div');\n",
              "      const label = document.createElement('label');\n",
              "      label.textContent = `Downloading \"${filename}\": `;\n",
              "      div.appendChild(label);\n",
              "      const progress = document.createElement('progress');\n",
              "      progress.max = size;\n",
              "      div.appendChild(progress);\n",
              "      document.body.appendChild(div);\n",
              "\n",
              "      const buffers = [];\n",
              "      let downloaded = 0;\n",
              "\n",
              "      const channel = await google.colab.kernel.comms.open(id);\n",
              "      // Send a message to notify the kernel that we're ready.\n",
              "      channel.send({})\n",
              "\n",
              "      for await (const message of channel.messages) {\n",
              "        // Send a message to notify the kernel that we're ready.\n",
              "        channel.send({})\n",
              "        if (message.buffers) {\n",
              "          for (const buffer of message.buffers) {\n",
              "            buffers.push(buffer);\n",
              "            downloaded += buffer.byteLength;\n",
              "            progress.value = downloaded;\n",
              "          }\n",
              "        }\n",
              "      }\n",
              "      const blob = new Blob(buffers, {type: 'application/binary'});\n",
              "      const a = document.createElement('a');\n",
              "      a.href = window.URL.createObjectURL(blob);\n",
              "      a.download = filename;\n",
              "      div.appendChild(a);\n",
              "      a.click();\n",
              "      div.remove();\n",
              "    }\n",
              "  "
            ],
            "text/plain": [
              "<IPython.core.display.Javascript object>"
            ]
          },
          "metadata": {},
          "output_type": "display_data"
        },
        {
          "data": {
            "application/javascript": [
              "download(\"download_e15fab98-fbeb-4194-ac0f-b0bfa5998644\", \"Error_m1_30x60.png\", 27581)"
            ],
            "text/plain": [
              "<IPython.core.display.Javascript object>"
            ]
          },
          "metadata": {},
          "output_type": "display_data"
        },
        {
          "data": {
            "image/png": "[encoded data removed]",
            "text/plain": [
              "<Figure size 576x576 with 1 Axes>"
            ]
          },
          "metadata": {},
          "output_type": "display_data"
        }
      ],
      "source": [
        "for i in range(num_measures):\n",
        "  Loss , Q , x = Losses_m1[i], Qs_m1[i], xs_m1[i]\n",
        "  n_iters = np.arange(len(Loss))\n",
        "  plt.plot(n_iters, Loss, '-o', label = \"Error\"+str(i+1))\n",
        "\n",
        "plt.xlabel(\"Iteration number\", fontsize = 20)\n",
        "plt.ylabel(\"Loss\", fontsize = 20)\n",
        "plt.title(\"A (30x60) , m = 1\", fontsize = 20)\n",
        "plt.savefig(\"Error_m1_30x60.png\")\n",
        "files.download(\"Error_m1_30x60.png\")\n",
        "# plt.legend()\n",
        "plt.show()\n",
        "plt.rcParams['figure.figsize'] = [8,8]\n",
        "plt.rc('xtick', labelsize=20)\n",
        "plt.rc('ytick', labelsize=20)"
      ]
    },
    {
      "cell_type": "code",
      "execution_count": null,
      "metadata": {
        "colab": {
          "base_uri": "https://localhost:8080/",
          "height": 366
        },
        "id": "E1YH3pydElfy",
        "outputId": "36f46767-87d6-4ff6-c775-cdf871758ad8"
      },
      "outputs": [
        {
          "data": {
            "application/javascript": [
              "\n",
              "    async function download(id, filename, size) {\n",
              "      if (!google.colab.kernel.accessAllowed) {\n",
              "        return;\n",
              "      }\n",
              "      const div = document.createElement('div');\n",
              "      const label = document.createElement('label');\n",
              "      label.textContent = `Downloading \"${filename}\": `;\n",
              "      div.appendChild(label);\n",
              "      const progress = document.createElement('progress');\n",
              "      progress.max = size;\n",
              "      div.appendChild(progress);\n",
              "      document.body.appendChild(div);\n",
              "\n",
              "      const buffers = [];\n",
              "      let downloaded = 0;\n",
              "\n",
              "      const channel = await google.colab.kernel.comms.open(id);\n",
              "      // Send a message to notify the kernel that we're ready.\n",
              "      channel.send({})\n",
              "\n",
              "      for await (const message of channel.messages) {\n",
              "        // Send a message to notify the kernel that we're ready.\n",
              "        channel.send({})\n",
              "        if (message.buffers) {\n",
              "          for (const buffer of message.buffers) {\n",
              "            buffers.push(buffer);\n",
              "            downloaded += buffer.byteLength;\n",
              "            progress.value = downloaded;\n",
              "          }\n",
              "        }\n",
              "      }\n",
              "      const blob = new Blob(buffers, {type: 'application/binary'});\n",
              "      const a = document.createElement('a');\n",
              "      a.href = window.URL.createObjectURL(blob);\n",
              "      a.download = filename;\n",
              "      div.appendChild(a);\n",
              "      a.click();\n",
              "      div.remove();\n",
              "    }\n",
              "  "
            ],
            "text/plain": [
              "<IPython.core.display.Javascript object>"
            ]
          },
          "metadata": {},
          "output_type": "display_data"
        },
        {
          "data": {
            "application/javascript": [
              "download(\"download_36c0a30d-af63-469d-8939-a56be0c5612a\", \"Error_rlz_m3.png\", 8913)"
            ],
            "text/plain": [
              "<IPython.core.display.Javascript object>"
            ]
          },
          "metadata": {},
          "output_type": "display_data"
        },
        {
          "data": {
            "image/png": "[encoded data removed]",
            "text/plain": [
              "<Figure size 360x360 with 1 Axes>"
            ]
          },
          "metadata": {},
          "output_type": "display_data"
        }
      ],
      "source": [
        "Loss_error_m3 = np.zeros(num_measures)\n",
        "Loss_error_m2 = np.zeros(num_measures)\n",
        "Loss_error_m1 = np.zeros(num_measures)\n",
        "for i in range(num_measures):\n",
        "  Loss_error_m3[i] = Losses_m3[i][-1]\n",
        "\n",
        "for i in range(num_measures):\n",
        "  Loss_error_m2[i] = Losses_m2[i][-1]\n",
        "\n",
        "for i in range(num_measures):\n",
        "  Loss_error_m1[i] = Losses_m1[i][-1]\n",
        "  \n",
        "plt.plot(3*np.ones(num_measures), Loss_error_m3, 'co', markersize = 8)\n",
        "plt.plot(2*np.ones(num_measures), Loss_error_m2, 'co',  markersize = 8)\n",
        "plt.plot(1*np.ones(num_measures), Loss_error_m1, 'co',  markersize = 8)\n",
        "plt.xlabel(\"Sparsity degree\", fontsize = 15)\n",
        "plt.ylabel(\"Final Loss\", fontsize = 15)\n",
        "plt.xticks(np.arange(3)+1)\n",
        "plt.title(\"Loss for 10 error realizations\", fontsize = 15)\n",
        "plt.savefig(\"Error_rlz_m3.png\")\n",
        "files.download(\"Error_rlz_m3.png\")\n",
        "plt.show()\n",
        "plt.rcParams['figure.figsize'] = [5,5]"
      ]
    },
    {
      "cell_type": "markdown",
      "metadata": {
        "id": "HGi72tq8Aw9s"
      },
      "source": [
        "## Defining Linear constraints and bounds"
      ]
    },
    {
      "cell_type": "code",
      "execution_count": null,
      "metadata": {
        "id": "bLd0gExqA36n"
      },
      "outputs": [],
      "source": [
        "beq = np.ones((m))\n",
        "Aeq = np.zeros((m,m+N*m))\n",
        "for i in range(m):\n",
        "  Aeq[i,m+N*i:m+N*(i+1)] = 1\n",
        "\n",
        "lb = np.zeros((m+N*m))\n",
        "lb[0:m] = -1e5*np.ones((m))\n",
        "\n",
        "ub = np.ones((m+N*m))\n",
        "ub[0:m] = 1e5*np.ones((m))"
      ]
    },
    {
      "cell_type": "markdown",
      "metadata": {
        "id": "KSk6Obb9KtN4"
      },
      "source": [
        "## Algorithm"
      ]
    },
    {
      "cell_type": "code",
      "execution_count": null,
      "metadata": {
        "id": "UzNlTB-UKvFw"
      },
      "outputs": [],
      "source": [
        "# Input\n",
        "\n",
        "m = 3\n",
        "Loss1 = []\n",
        "T_iters = []\n",
        "\n",
        "# Variables\n",
        "\n",
        "N = A.shape[1]\n",
        "Q = (1/N) * np.ones((N,m))\n",
        "La = np.zeros((N,1))\n",
        "\n",
        "for i in range(N):\n",
        "  La[i] = A[:,i].T @ A[:,i]\n",
        "\n",
        "x = np.linalg.pinv((A @ Q).T @ A @ Q + np.diag((La.T @ (Q * (1-Q)))[0])) @ (A @ Q).T @ Y"
      ]
    },
    {
      "cell_type": "code",
      "execution_count": null,
      "metadata": {
        "id": "gzsG2fj0OfQ4"
      },
      "outputs": [],
      "source": [
        "# Annealing parameters\n",
        "\n",
        "T = 10\n",
        "alpha = 0.9\n",
        "eps = 0.01"
      ]
    },
    {
      "cell_type": "code",
      "execution_count": null,
      "metadata": {
        "id": "-zv61q0EDAjm"
      },
      "outputs": [],
      "source": [
        "# Bounds\n",
        "bounds = Bounds(lb, ub)\n",
        "# Linear constraint\n",
        "linear_constraint = LinearConstraint(Aeq, beq, beq)"
      ]
    },
    {
      "cell_type": "code",
      "execution_count": null,
      "metadata": {
        "colab": {
          "base_uri": "https://localhost:8080/"
        },
        "id": "UJd0nCaYKeGO",
        "outputId": "0e0d3e5d-4596-4dbe-dbae-ec2ec7ee3697"
      },
      "outputs": [
        {
          "name": "stdout",
          "output_type": "stream",
          "text": [
            "T =  10\n"
          ]
        },
        {
          "name": "stderr",
          "output_type": "stream",
          "text": [
            "<ipython-input-32-be549f6d3893>:13: OptimizeWarning: Unknown solver options: verbose\n",
            "  res = minimize(free_energy, z0, method='SLSQP', jac = free_energy_grad,\n",
            "<ipython-input-25-225926689667>:13: RuntimeWarning: divide by zero encountered in log\n",
            "  F = np.linalg.norm(Y - A @ Q @ x)**2 + x.T @ np.diag((La.T @ (Q * (1-Q)))[0]) @ x + T*np.ones((1,N))@(Qb*np.log(Qb) + (1-Qb)*np.log(1-Qb)) @ np.ones((m,1))\n",
            "<ipython-input-25-225926689667>:13: RuntimeWarning: invalid value encountered in multiply\n",
            "  F = np.linalg.norm(Y - A @ Q @ x)**2 + x.T @ np.diag((La.T @ (Q * (1-Q)))[0]) @ x + T*np.ones((1,N))@(Qb*np.log(Qb) + (1-Qb)*np.log(1-Qb)) @ np.ones((m,1))\n"
          ]
        },
        {
          "name": "stdout",
          "output_type": "stream",
          "text": [
            "Maximum p in each column: [0.05469962 0.05470119 0.05470459]\n",
            "T =  9.0\n",
            "Maximum p in each column: [0.06861956 0.06861626 0.06861156]\n",
            "T =  8.1\n",
            "Maximum p in each column: [0.09094283 0.09098277 0.09108475]\n",
            "T =  7.29\n",
            "Maximum p in each column: [0.12711495 0.1270549  0.12675263]\n",
            "T =  6.561\n",
            "Maximum p in each column: [0.97346136 0.02062734 0.02111107]\n",
            "T =  5.9049000000000005\n",
            "Maximum p in each column: [0.9879554  0.02242661 0.02142287]\n",
            "T =  5.3144100000000005\n",
            "Maximum p in each column: [0.99340537 0.02255023 0.0225469 ]\n",
            "T =  4.7829690000000005\n",
            "Maximum p in each column: [0.99644278 0.02348241 0.02347848]\n",
            "T =  4.3046721\n",
            "Maximum p in each column: [0.99815978 0.02456995 0.02457198]\n",
            "T =  3.8742048900000006\n",
            "Maximum p in each column: [0.9991122  0.02594244 0.02587392]\n",
            "T =  3.4867844010000004\n",
            "Maximum p in each column: [0.99957581 0.02759597 0.0275298 ]\n",
            "T =  3.1381059609000004\n",
            "Maximum p in each column: [0.99983215 0.02959256 0.02948311]\n",
            "T =  2.82429536481\n",
            "Maximum p in each column: [0.99992917 0.03219916 0.03198721]\n",
            "T =  2.541865828329\n",
            "Maximum p in each column: [0.99997169 0.03556629 0.03558811]\n",
            "T =  2.2876792454961\n",
            "Maximum p in each column: [0.99998756 0.04027606 0.04018585]\n",
            "T =  2.05891132094649\n",
            "Maximum p in each column: [0.99999292 0.04710809 0.04715608]\n",
            "T =  1.853020188851841\n",
            "Maximum p in each column: [0.99999577 0.05835923 0.05840055]\n",
            "T =  1.6677181699666568\n",
            "Maximum p in each column: [0.9999976  0.08081371 0.08082838]\n",
            "T =  1.5009463529699911\n",
            "Maximum p in each column: [0.99999887 0.15931487 0.1566273 ]\n",
            "T =  1.350851717672992\n",
            "Maximum p in each column: [1.         0.97374263 0.02051173]\n",
            "T =  1.2157665459056928\n",
            "Maximum p in each column: [1.         0.98428974 0.02101066]\n",
            "T =  1.0941898913151236\n",
            "Maximum p in each column: [1.         0.9916385  0.02127626]\n",
            "T =  0.9847709021836112\n",
            "Maximum p in each column: [1.         0.99535939 0.02207768]\n",
            "T =  0.88629381196525\n",
            "Maximum p in each column: [1.         0.99770826 0.02304004]\n",
            "T =  0.7976644307687251\n",
            "Maximum p in each column: [1.         0.99886471 0.02385988]\n",
            "T =  0.7178979876918525\n",
            "Maximum p in each column: [1.         0.99948965 0.02516441]\n",
            "T =  0.6461081889226673\n",
            "Maximum p in each column: [1.         0.99978349 0.0266401 ]\n",
            "T =  0.5814973700304006\n",
            "Maximum p in each column: [1.         0.99988895 0.02846598]\n",
            "T =  0.5233476330273605\n",
            "Maximum p in each column: [1.         0.99996183 0.03104788]\n",
            "T =  0.47101286972462447\n",
            "Maximum p in each column: [1.         0.99998582 0.03431733]\n",
            "T =  0.423911582752162\n",
            "Maximum p in each column: [1.         0.99999316 0.03898114]\n",
            "T =  0.38152042447694584\n",
            "Maximum p in each column: [1.         0.99999707 0.04605477]\n",
            "T =  0.34336838202925124\n",
            "Maximum p in each column: [1.         0.99999917 0.05841384]\n",
            "T =  0.30903154382632614\n",
            "Maximum p in each column: [1.         0.99999981 0.09068644]\n",
            "T =  0.27812838944369356\n",
            "Maximum p in each column: [1.         1.         0.97899474]\n",
            "T =  0.2503155504993242\n",
            "Maximum p in each column: [1.         1.         0.98987516]\n",
            "T =  0.2252839954493918\n",
            "Maximum p in each column: [1.         1.         0.99494864]\n"
          ]
        }
      ],
      "source": [
        "# Algorithm\n",
        "\n",
        "while np.amin(np.amax(Q,0)) < 1 - eps:\n",
        "    print(\"T = \", str(T))\n",
        "    z0 = np.zeros((m+N*m))\n",
        "    z0[0:m] = x.flatten()\n",
        "    i , k = m , 0\n",
        "    while i < len(z0):\n",
        "        z0[i:i+N] = Q[:,k]\n",
        "        i += N\n",
        "        k += 1\n",
        "\n",
        "    res = minimize(free_energy, z0, method='SLSQP', jac = free_energy_grad,\n",
        "                constraints = linear_constraint, args=(Y,A,m,La,N,T),\n",
        "                options={'verbose': 1}, bounds=bounds)\n",
        "    z = res.x\n",
        "    x[0:m]  = z[0:m].reshape(-1,1)\n",
        "    Q = np.ones((N,m))\n",
        "    i , k = m , 0\n",
        "    while i < len(z):\n",
        "        Q[:,k] = z[i:i+N]\n",
        "        i += N\n",
        "        k += 1\n",
        "\n",
        "    print('Maximum p in each column: '+ str(np.amax(Q,0)))\n",
        "    T = T* alpha\n",
        "    err = np.linalg.norm(Y - A @ Q @ x)\n",
        "    Loss1.append(err.item())\n",
        "    T_iters.append(T)"
      ]
    },
    {
      "cell_type": "code",
      "execution_count": null,
      "metadata": {
        "colab": {
          "base_uri": "https://localhost:8080/",
          "height": 513
        },
        "id": "itWlIa4MRuL1",
        "outputId": "2ba2a0dc-2efc-42ee-e14d-ef82e4f67bde"
      },
      "outputs": [
        {
          "data": {
            "application/javascript": [
              "\n",
              "    async function download(id, filename, size) {\n",
              "      if (!google.colab.kernel.accessAllowed) {\n",
              "        return;\n",
              "      }\n",
              "      const div = document.createElement('div');\n",
              "      const label = document.createElement('label');\n",
              "      label.textContent = `Downloading \"${filename}\": `;\n",
              "      div.appendChild(label);\n",
              "      const progress = document.createElement('progress');\n",
              "      progress.max = size;\n",
              "      div.appendChild(progress);\n",
              "      document.body.appendChild(div);\n",
              "\n",
              "      const buffers = [];\n",
              "      let downloaded = 0;\n",
              "\n",
              "      const channel = await google.colab.kernel.comms.open(id);\n",
              "      // Send a message to notify the kernel that we're ready.\n",
              "      channel.send({})\n",
              "\n",
              "      for await (const message of channel.messages) {\n",
              "        // Send a message to notify the kernel that we're ready.\n",
              "        channel.send({})\n",
              "        if (message.buffers) {\n",
              "          for (const buffer of message.buffers) {\n",
              "            buffers.push(buffer);\n",
              "            downloaded += buffer.byteLength;\n",
              "            progress.value = downloaded;\n",
              "          }\n",
              "        }\n",
              "      }\n",
              "      const blob = new Blob(buffers, {type: 'application/binary'});\n",
              "      const a = document.createElement('a');\n",
              "      a.href = window.URL.createObjectURL(blob);\n",
              "      a.download = filename;\n",
              "      div.appendChild(a);\n",
              "      a.click();\n",
              "      div.remove();\n",
              "    }\n",
              "  "
            ],
            "text/plain": [
              "<IPython.core.display.Javascript object>"
            ]
          },
          "metadata": {},
          "output_type": "display_data"
        },
        {
          "data": {
            "application/javascript": [
              "download(\"download_970ffb19-3751-4885-a533-c55a658b9541\", \"Error_T_30x60.pdf\", 12393)"
            ],
            "text/plain": [
              "<IPython.core.display.Javascript object>"
            ]
          },
          "metadata": {},
          "output_type": "display_data"
        },
        {
          "data": {
            "image/png": "[encoded data removed]",
            "text/plain": [
              "<Figure size 576x576 with 1 Axes>"
            ]
          },
          "metadata": {},
          "output_type": "display_data"
        }
      ],
      "source": [
        "plt.plot(T_iters, Loss1, 'b-o', label = \"Error\")\n",
        "plt.xlabel(\"Temperature (T)\")\n",
        "plt.ylabel(\"Error\")\n",
        "plt.title(\"A (30x60) , m = 3\")\n",
        "plt.savefig(\"Error_T_30x60.pdf\")\n",
        "files.download(\"Error_T_30x60.pdf\")\n",
        "plt.show()\n",
        "plt.rcParams['figure.figsize'] = [8,8]"
      ]
    },
    {
      "cell_type": "code",
      "execution_count": null,
      "metadata": {
        "colab": {
          "base_uri": "https://localhost:8080/",
          "height": 513
        },
        "id": "y0XVhaRrUN7X",
        "outputId": "1d06b6ef-c4bd-4810-ffb6-6aad07f5bdcd"
      },
      "outputs": [
        {
          "data": {
            "application/javascript": [
              "\n",
              "    async function download(id, filename, size) {\n",
              "      if (!google.colab.kernel.accessAllowed) {\n",
              "        return;\n",
              "      }\n",
              "      const div = document.createElement('div');\n",
              "      const label = document.createElement('label');\n",
              "      label.textContent = `Downloading \"${filename}\": `;\n",
              "      div.appendChild(label);\n",
              "      const progress = document.createElement('progress');\n",
              "      progress.max = size;\n",
              "      div.appendChild(progress);\n",
              "      document.body.appendChild(div);\n",
              "\n",
              "      const buffers = [];\n",
              "      let downloaded = 0;\n",
              "\n",
              "      const channel = await google.colab.kernel.comms.open(id);\n",
              "      // Send a message to notify the kernel that we're ready.\n",
              "      channel.send({})\n",
              "\n",
              "      for await (const message of channel.messages) {\n",
              "        // Send a message to notify the kernel that we're ready.\n",
              "        channel.send({})\n",
              "        if (message.buffers) {\n",
              "          for (const buffer of message.buffers) {\n",
              "            buffers.push(buffer);\n",
              "            downloaded += buffer.byteLength;\n",
              "            progress.value = downloaded;\n",
              "          }\n",
              "        }\n",
              "      }\n",
              "      const blob = new Blob(buffers, {type: 'application/binary'});\n",
              "      const a = document.createElement('a');\n",
              "      a.href = window.URL.createObjectURL(blob);\n",
              "      a.download = filename;\n",
              "      div.appendChild(a);\n",
              "      a.click();\n",
              "      div.remove();\n",
              "    }\n",
              "  "
            ],
            "text/plain": [
              "<IPython.core.display.Javascript object>"
            ]
          },
          "metadata": {},
          "output_type": "display_data"
        },
        {
          "data": {
            "application/javascript": [
              "download(\"download_afca5f40-3339-443c-8d2c-8059dc7180bf\", \"Error_iter_30x60.pdf\", 12018)"
            ],
            "text/plain": [
              "<IPython.core.display.Javascript object>"
            ]
          },
          "metadata": {},
          "output_type": "display_data"
        },
        {
          "data": {
            "image/png": "[encoded data removed]",
            "text/plain": [
              "<Figure size 576x576 with 1 Axes>"
            ]
          },
          "metadata": {},
          "output_type": "display_data"
        }
      ],
      "source": [
        "iters = np.arange(len(T_iters))+1\n",
        "plt.plot(iters, Loss1, 'b-o', label = \"Error\")\n",
        "plt.xlabel(\"Iteration number\")\n",
        "plt.ylabel(\"Error\")\n",
        "plt.title(\"A (30x60) , m = 3\")\n",
        "plt.savefig(\"Error_iter_30x60.pdf\")\n",
        "files.download(\"Error_iter_30x60.pdf\")\n",
        "plt.show()\n",
        "plt.rcParams['figure.figsize'] = [8,8]"
      ]
    },
    {
      "cell_type": "code",
      "execution_count": null,
      "metadata": {
        "colab": {
          "base_uri": "https://localhost:8080/",
          "height": 194
        },
        "id": "-mQ1UCtSV6-d",
        "outputId": "792c3b87-9d74-45ec-a537-af1501bfc158"
      },
      "outputs": [
        {
          "data": {
            "application/javascript": [
              "\n",
              "    async function download(id, filename, size) {\n",
              "      if (!google.colab.kernel.accessAllowed) {\n",
              "        return;\n",
              "      }\n",
              "      const div = document.createElement('div');\n",
              "      const label = document.createElement('label');\n",
              "      label.textContent = `Downloading \"${filename}\": `;\n",
              "      div.appendChild(label);\n",
              "      const progress = document.createElement('progress');\n",
              "      progress.max = size;\n",
              "      div.appendChild(progress);\n",
              "      document.body.appendChild(div);\n",
              "\n",
              "      const buffers = [];\n",
              "      let downloaded = 0;\n",
              "\n",
              "      const channel = await google.colab.kernel.comms.open(id);\n",
              "      // Send a message to notify the kernel that we're ready.\n",
              "      channel.send({})\n",
              "\n",
              "      for await (const message of channel.messages) {\n",
              "        // Send a message to notify the kernel that we're ready.\n",
              "        channel.send({})\n",
              "        if (message.buffers) {\n",
              "          for (const buffer of message.buffers) {\n",
              "            buffers.push(buffer);\n",
              "            downloaded += buffer.byteLength;\n",
              "            progress.value = downloaded;\n",
              "          }\n",
              "        }\n",
              "      }\n",
              "      const blob = new Blob(buffers, {type: 'application/binary'});\n",
              "      const a = document.createElement('a');\n",
              "      a.href = window.URL.createObjectURL(blob);\n",
              "      a.download = filename;\n",
              "      div.appendChild(a);\n",
              "      a.click();\n",
              "      div.remove();\n",
              "    }\n",
              "  "
            ],
            "text/plain": [
              "<IPython.core.display.Javascript object>"
            ]
          },
          "metadata": {},
          "output_type": "display_data"
        },
        {
          "data": {
            "application/javascript": [
              "download(\"download_b80e6030-2a88-4c6d-ada6-0618f0612d94\", \"sparse_x.png\", 7753)"
            ],
            "text/plain": [
              "<IPython.core.display.Javascript object>"
            ]
          },
          "metadata": {},
          "output_type": "display_data"
        },
        {
          "data": {
            "image/png": "[encoded data removed]",
            "text/plain": [
              "<Figure size 2160x216 with 2 Axes>"
            ]
          },
          "metadata": {},
          "output_type": "display_data"
        }
      ],
      "source": [
        "plt.imshow((Qs_m3[-1]@xs_m3[-1]).T)\n",
        "plt.title(\"x obtained by MEP (30x60) , m = 3\", fontsize = 20)\n",
        "plt.tick_params(axis='both', which='major', labelsize=1)\n",
        "plt.savefig(\"sparse_x.png\")\n",
        "files.download(\"sparse_x.png\")\n",
        "plt.rcParams[\"figure.figsize\"] = (30,3)\n",
        "plt.colorbar()\n",
        "plt.show()"
      ]
    },
    {
      "cell_type": "code",
      "execution_count": null,
      "metadata": {
        "colab": {
          "base_uri": "https://localhost:8080/",
          "height": 205
        },
        "id": "8-xdG97hvLy5",
        "outputId": "20054f6e-8ed7-4b68-c0f9-a80304665979"
      },
      "outputs": [
        {
          "data": {
            "application/javascript": [
              "\n",
              "    async function download(id, filename, size) {\n",
              "      if (!google.colab.kernel.accessAllowed) {\n",
              "        return;\n",
              "      }\n",
              "      const div = document.createElement('div');\n",
              "      const label = document.createElement('label');\n",
              "      label.textContent = `Downloading \"${filename}\": `;\n",
              "      div.appendChild(label);\n",
              "      const progress = document.createElement('progress');\n",
              "      progress.max = size;\n",
              "      div.appendChild(progress);\n",
              "      document.body.appendChild(div);\n",
              "\n",
              "      const buffers = [];\n",
              "      let downloaded = 0;\n",
              "\n",
              "      const channel = await google.colab.kernel.comms.open(id);\n",
              "      // Send a message to notify the kernel that we're ready.\n",
              "      channel.send({})\n",
              "\n",
              "      for await (const message of channel.messages) {\n",
              "        // Send a message to notify the kernel that we're ready.\n",
              "        channel.send({})\n",
              "        if (message.buffers) {\n",
              "          for (const buffer of message.buffers) {\n",
              "            buffers.push(buffer);\n",
              "            downloaded += buffer.byteLength;\n",
              "            progress.value = downloaded;\n",
              "          }\n",
              "        }\n",
              "      }\n",
              "      const blob = new Blob(buffers, {type: 'application/binary'});\n",
              "      const a = document.createElement('a');\n",
              "      a.href = window.URL.createObjectURL(blob);\n",
              "      a.download = filename;\n",
              "      div.appendChild(a);\n",
              "      a.click();\n",
              "      div.remove();\n",
              "    }\n",
              "  "
            ],
            "text/plain": [
              "<IPython.core.display.Javascript object>"
            ]
          },
          "metadata": {},
          "output_type": "display_data"
        },
        {
          "data": {
            "application/javascript": [
              "download(\"download_5e1c6312-604f-422d-8832-03c594f83c04\", \"sparse_x.png\", 6701)"
            ],
            "text/plain": [
              "<IPython.core.display.Javascript object>"
            ]
          },
          "metadata": {},
          "output_type": "display_data"
        },
        {
          "data": {
            "image/png": "[encoded data removed]",
            "text/plain": [
              "<Figure size 2160x216 with 2 Axes>"
            ]
          },
          "metadata": {},
          "output_type": "display_data"
        }
      ],
      "source": [
        "plt.imshow((V@x_original).T)\n",
        "plt.title(\"Original x (30x60) , m = 3\", fontsize = 20)\n",
        "plt.tick_params(axis='both', which='major', labelsize=1)\n",
        "plt.savefig(\"sparse_x.png\")\n",
        "files.download(\"sparse_x.png\")\n",
        "plt.rcParams[\"figure.figsize\"] = (30,3)\n",
        "plt.colorbar()\n",
        "plt.show()"
      ]
    },
    {
      "cell_type": "code",
      "execution_count": null,
      "metadata": {
        "colab": {
          "base_uri": "https://localhost:8080/"
        },
        "id": "0uqYmxZ6jwmc",
        "outputId": "24b769ab-c2eb-48ab-f162-920554541c31"
      },
      "outputs": [
        {
          "name": "stdout",
          "output_type": "stream",
          "text": [
            "T =  10\n"
          ]
        },
        {
          "name": "stderr",
          "output_type": "stream",
          "text": [
            "<ipython-input-18-ae03b9924fc6>:53: OptimizeWarning: Unknown solver options: verbose\n",
            "  res = minimize(free_energy, z0, method='SLSQP', jac = free_energy_grad,\n",
            "<ipython-input-16-225926689667>:13: RuntimeWarning: divide by zero encountered in log\n",
            "  F = np.linalg.norm(Y - A @ Q @ x)**2 + x.T @ np.diag((La.T @ (Q * (1-Q)))[0]) @ x + T*np.ones((1,N))@(Qb*np.log(Qb) + (1-Qb)*np.log(1-Qb)) @ np.ones((m,1))\n",
            "<ipython-input-16-225926689667>:13: RuntimeWarning: invalid value encountered in multiply\n",
            "  F = np.linalg.norm(Y - A @ Q @ x)**2 + x.T @ np.diag((La.T @ (Q * (1-Q)))[0]) @ x + T*np.ones((1,N))@(Qb*np.log(Qb) + (1-Qb)*np.log(1-Qb)) @ np.ones((m,1))\n"
          ]
        },
        {
          "name": "stdout",
          "output_type": "stream",
          "text": [
            "Maximum p in each column: [0.0518524]\n",
            "T =  9.0\n",
            "Maximum p in each column: [0.0635508]\n",
            "T =  8.1\n",
            "Maximum p in each column: [0.08294391]\n",
            "T =  7.29\n",
            "Maximum p in each column: [0.12738551]\n",
            "T =  6.561\n",
            "Maximum p in each column: [0.6796843]\n",
            "T =  5.9049000000000005\n",
            "Maximum p in each column: [0.71375459]\n",
            "T =  5.3144100000000005\n",
            "Maximum p in each column: [0.73435404]\n",
            "T =  4.7829690000000005\n",
            "Maximum p in each column: [0.7509553]\n",
            "T =  4.3046721\n",
            "Maximum p in each column: [0.7666155]\n",
            "T =  3.8742048900000006\n",
            "Maximum p in each column: [0.78161456]\n",
            "T =  3.4867844010000004\n",
            "Maximum p in each column: [0.79624158]\n",
            "T =  3.1381059609000004\n",
            "Maximum p in each column: [0.81381348]\n",
            "T =  2.82429536481\n",
            "Maximum p in each column: [0.82666888]\n",
            "T =  2.541865828329\n",
            "Maximum p in each column: [0.83980916]\n",
            "T =  2.2876792454961\n",
            "Maximum p in each column: [0.85292885]\n",
            "T =  2.05891132094649\n",
            "Maximum p in each column: [0.86582993]\n",
            "T =  1.853020188851841\n",
            "Maximum p in each column: [0.87860991]\n",
            "T =  1.6677181699666568\n",
            "Maximum p in each column: [0.89082326]\n",
            "T =  1.5009463529699911\n",
            "Maximum p in each column: [0.90259599]\n",
            "T =  1.350851717672992\n",
            "Maximum p in each column: [0.91405861]\n",
            "T =  1.2157665459056928\n",
            "Maximum p in each column: [0.92500499]\n",
            "T =  1.0941898913151236\n",
            "Maximum p in each column: [0.93535482]\n",
            "T =  0.9847709021836112\n",
            "Maximum p in each column: [0.94508571]\n",
            "T =  0.88629381196525\n",
            "Maximum p in each column: [0.95414877]\n",
            "T =  0.7976644307687251\n",
            "Maximum p in each column: [0.96249055]\n",
            "T =  0.7178979876918525\n",
            "Maximum p in each column: [0.97002366]\n",
            "T =  0.6461081889226673\n",
            "Maximum p in each column: [0.97672722]\n",
            "T =  0.5814973700304006\n",
            "Maximum p in each column: [0.98255244]\n",
            "T =  0.5233476330273605\n",
            "Maximum p in each column: [0.98743055]\n",
            "T =  0.47101286972462447\n",
            "Maximum p in each column: [0.99140039]\n"
          ]
        }
      ],
      "source": [
        "x_test , Q_test , Loss_test , T_iters_test = MEP_SLR(A,Y,m = 1,eps = 0.01, Tmax = 10)"
      ]
    },
    {
      "cell_type": "code",
      "execution_count": null,
      "metadata": {
        "colab": {
          "base_uri": "https://localhost:8080/"
        },
        "id": "m1vSFteWWOUN",
        "outputId": "1de85fb7-baa6-43a7-bd51-ec7f9e5e95d5"
      },
      "outputs": [
        {
          "name": "stdout",
          "output_type": "stream",
          "text": [
            "5.339663783601694\n"
          ]
        }
      ],
      "source": [
        "Final_Error_m1 = Loss_test[-1]\n",
        "print(Final_Error_m1)"
      ]
    },
    {
      "cell_type": "code",
      "execution_count": null,
      "metadata": {
        "id": "1kQdlnzGlM5U"
      },
      "outputs": [],
      "source": [
        "Loss_MEP = [Final_Error_m1, Final_Error_m2, Final_Error_m3]"
      ]
    },
    {
      "cell_type": "markdown",
      "metadata": {
        "id": "tSLFEwy084su"
      },
      "source": [
        "## Comparison with other algorithms"
      ]
    },
    {
      "cell_type": "code",
      "execution_count": null,
      "metadata": {
        "colab": {
          "base_uri": "https://localhost:8080/"
        },
        "id": "Cpp3zo3rFjRq",
        "outputId": "9c74f8cf-9c70-47cd-ade6-178128c68141"
      },
      "outputs": [
        {
          "data": {
            "text/plain": [
              "(5, 4)"
            ]
          },
          "execution_count": 103,
          "metadata": {},
          "output_type": "execute_result"
        }
      ],
      "source": [
        "LossComp_m4 = LossComp[:,0:-1]\n",
        "LossComp_m4.shape"
      ]
    },
    {
      "cell_type": "code",
      "execution_count": null,
      "metadata": {
        "colab": {
          "base_uri": "https://localhost:8080/",
          "height": 404
        },
        "id": "oM4zIEUmw8An",
        "outputId": "a22fb98c-072a-4735-ac2d-f4d6f588ccd1"
      },
      "outputs": [
        {
          "data": {
            "image/png": "[encoded data removed]",
            "text/plain": [
              "<Figure size 576x432 with 1 Axes>"
            ]
          },
          "metadata": {},
          "output_type": "display_data"
        }
      ],
      "source": [
        "# Loss_MEP = [Loss1[-1], Loss2[-1], Loss3[-1], Loss4[-1]] \n",
        "Loss_MEP = np.array([1.239466180864918110e+00, 3.884360534404434628e-01, 1.434263373647165218e-01, 2.986057316641685389e-02])\n",
        "num = np.arange(4)\n",
        "plt.plot(num+1, Loss_MEP, '-d', label = 'MEP')\n",
        "plt.plot(num+1, LossComp_m4[1,:], '-o', label = \"LASSO-L1\")\n",
        "plt.plot(num+1, LossComp_m4[2,:], '-o', label = \"LASSO-ElasticNet\")\n",
        "plt.plot(num+1, LossComp_m4[3,:], '-o', label = \"LASSO-GLM\")\n",
        "plt.plot(num+1, LossComp_m4[4,:], '-o', label = \"LARS\")\n",
        "plt.xticks(num+1)\n",
        "plt.xlabel(\"Sparsity Level\")\n",
        "plt.ylabel(\"Error\")\n",
        "plt.title(\"Loss Comparison\")\n",
        "plt.legend(loc='center left', bbox_to_anchor=(1, 0.5))\n",
        "plt.rcParams[\"figure.figsize\"] = (8,6)"
      ]
    },
    {
      "cell_type": "code",
      "execution_count": null,
      "metadata": {
        "colab": {
          "base_uri": "https://localhost:8080/"
        },
        "id": "sKjV1aYgs5RT",
        "outputId": "37769e33-8e2b-4640-9e34-6a7cca55a589"
      },
      "outputs": [
        {
          "name": "stderr",
          "output_type": "stream",
          "text": [
            "/usr/local/lib/python3.8/dist-packages/sklearn/linear_model/_least_angle.py:652: ConvergenceWarning: Regressors in active set degenerate. Dropping a regressor, after 40 iterations, i.e. alpha=3.438e-04, with an active set of 31 regressors, and the smallest cholesky pivot element being 2.220e-16. Reduce max_iter or increase eps parameters.\n",
            "  warnings.warn(\n",
            "/usr/local/lib/python3.8/dist-packages/sklearn/linear_model/_least_angle.py:652: ConvergenceWarning: Regressors in active set degenerate. Dropping a regressor, after 40 iterations, i.e. alpha=3.016e-04, with an active set of 31 regressors, and the smallest cholesky pivot element being 4.215e-08. Reduce max_iter or increase eps parameters.\n",
            "  warnings.warn(\n",
            "/usr/local/lib/python3.8/dist-packages/sklearn/linear_model/_least_angle.py:652: ConvergenceWarning: Regressors in active set degenerate. Dropping a regressor, after 40 iterations, i.e. alpha=2.947e-04, with an active set of 31 regressors, and the smallest cholesky pivot element being 6.664e-08. Reduce max_iter or increase eps parameters.\n",
            "  warnings.warn(\n",
            "/usr/local/lib/python3.8/dist-packages/sklearn/linear_model/_least_angle.py:652: ConvergenceWarning: Regressors in active set degenerate. Dropping a regressor, after 40 iterations, i.e. alpha=2.835e-04, with an active set of 31 regressors, and the smallest cholesky pivot element being 2.107e-08. Reduce max_iter or increase eps parameters.\n",
            "  warnings.warn(\n",
            "/usr/local/lib/python3.8/dist-packages/sklearn/linear_model/_least_angle.py:652: ConvergenceWarning: Regressors in active set degenerate. Dropping a regressor, after 40 iterations, i.e. alpha=2.180e-04, with an active set of 31 regressors, and the smallest cholesky pivot element being 8.941e-08. Reduce max_iter or increase eps parameters.\n",
            "  warnings.warn(\n",
            "/usr/local/lib/python3.8/dist-packages/sklearn/linear_model/_least_angle.py:652: ConvergenceWarning: Regressors in active set degenerate. Dropping a regressor, after 40 iterations, i.e. alpha=2.128e-04, with an active set of 31 regressors, and the smallest cholesky pivot element being 2.980e-08. Reduce max_iter or increase eps parameters.\n",
            "  warnings.warn(\n",
            "/usr/local/lib/python3.8/dist-packages/sklearn/linear_model/_least_angle.py:652: ConvergenceWarning: Regressors in active set degenerate. Dropping a regressor, after 40 iterations, i.e. alpha=1.824e-04, with an active set of 31 regressors, and the smallest cholesky pivot element being 1.490e-08. Reduce max_iter or increase eps parameters.\n",
            "  warnings.warn(\n",
            "/usr/local/lib/python3.8/dist-packages/sklearn/linear_model/_least_angle.py:652: ConvergenceWarning: Regressors in active set degenerate. Dropping a regressor, after 40 iterations, i.e. alpha=1.516e-04, with an active set of 31 regressors, and the smallest cholesky pivot element being 5.576e-08. Reduce max_iter or increase eps parameters.\n",
            "  warnings.warn(\n",
            "/usr/local/lib/python3.8/dist-packages/sklearn/linear_model/_least_angle.py:652: ConvergenceWarning: Regressors in active set degenerate. Dropping a regressor, after 40 iterations, i.e. alpha=1.371e-04, with an active set of 31 regressors, and the smallest cholesky pivot element being 3.650e-08. Reduce max_iter or increase eps parameters.\n",
            "  warnings.warn(\n",
            "/usr/local/lib/python3.8/dist-packages/sklearn/linear_model/_least_angle.py:652: ConvergenceWarning: Regressors in active set degenerate. Dropping a regressor, after 40 iterations, i.e. alpha=1.258e-04, with an active set of 31 regressors, and the smallest cholesky pivot element being 5.576e-08. Reduce max_iter or increase eps parameters.\n",
            "  warnings.warn(\n",
            "/usr/local/lib/python3.8/dist-packages/sklearn/linear_model/_least_angle.py:652: ConvergenceWarning: Regressors in active set degenerate. Dropping a regressor, after 40 iterations, i.e. alpha=1.154e-04, with an active set of 31 regressors, and the smallest cholesky pivot element being 2.220e-16. Reduce max_iter or increase eps parameters.\n",
            "  warnings.warn(\n",
            "/usr/local/lib/python3.8/dist-packages/sklearn/linear_model/_least_angle.py:652: ConvergenceWarning: Regressors in active set degenerate. Dropping a regressor, after 40 iterations, i.e. alpha=1.090e-04, with an active set of 31 regressors, and the smallest cholesky pivot element being 2.581e-08. Reduce max_iter or increase eps parameters.\n",
            "  warnings.warn(\n",
            "/usr/local/lib/python3.8/dist-packages/sklearn/linear_model/_least_angle.py:652: ConvergenceWarning: Regressors in active set degenerate. Dropping a regressor, after 40 iterations, i.e. alpha=1.088e-04, with an active set of 31 regressors, and the smallest cholesky pivot element being 2.980e-08. Reduce max_iter or increase eps parameters.\n",
            "  warnings.warn(\n",
            "/usr/local/lib/python3.8/dist-packages/sklearn/linear_model/_least_angle.py:652: ConvergenceWarning: Regressors in active set degenerate. Dropping a regressor, after 40 iterations, i.e. alpha=9.932e-05, with an active set of 31 regressors, and the smallest cholesky pivot element being 6.322e-08. Reduce max_iter or increase eps parameters.\n",
            "  warnings.warn(\n",
            "/usr/local/lib/python3.8/dist-packages/sklearn/linear_model/_least_angle.py:652: ConvergenceWarning: Regressors in active set degenerate. Dropping a regressor, after 40 iterations, i.e. alpha=9.813e-05, with an active set of 31 regressors, and the smallest cholesky pivot element being 7.300e-08. Reduce max_iter or increase eps parameters.\n",
            "  warnings.warn(\n",
            "/usr/local/lib/python3.8/dist-packages/sklearn/linear_model/_least_angle.py:652: ConvergenceWarning: Regressors in active set degenerate. Dropping a regressor, after 40 iterations, i.e. alpha=8.998e-05, with an active set of 31 regressors, and the smallest cholesky pivot element being 2.220e-16. Reduce max_iter or increase eps parameters.\n",
            "  warnings.warn(\n",
            "/usr/local/lib/python3.8/dist-packages/sklearn/linear_model/_least_angle.py:652: ConvergenceWarning: Regressors in active set degenerate. Dropping a regressor, after 40 iterations, i.e. alpha=8.809e-05, with an active set of 31 regressors, and the smallest cholesky pivot element being 2.220e-16. Reduce max_iter or increase eps parameters.\n",
            "  warnings.warn(\n",
            "/usr/local/lib/python3.8/dist-packages/sklearn/linear_model/_least_angle.py:652: ConvergenceWarning: Regressors in active set degenerate. Dropping a regressor, after 40 iterations, i.e. alpha=8.152e-05, with an active set of 31 regressors, and the smallest cholesky pivot element being 2.107e-08. Reduce max_iter or increase eps parameters.\n",
            "  warnings.warn(\n",
            "/usr/local/lib/python3.8/dist-packages/sklearn/linear_model/_least_angle.py:652: ConvergenceWarning: Regressors in active set degenerate. Dropping a regressor, after 40 iterations, i.e. alpha=7.075e-05, with an active set of 31 regressors, and the smallest cholesky pivot element being 2.980e-08. Reduce max_iter or increase eps parameters.\n",
            "  warnings.warn(\n",
            "/usr/local/lib/python3.8/dist-packages/sklearn/linear_model/_least_angle.py:652: ConvergenceWarning: Regressors in active set degenerate. Dropping a regressor, after 40 iterations, i.e. alpha=5.822e-05, with an active set of 31 regressors, and the smallest cholesky pivot element being 5.162e-08. Reduce max_iter or increase eps parameters.\n",
            "  warnings.warn(\n",
            "/usr/local/lib/python3.8/dist-packages/sklearn/linear_model/_least_angle.py:652: ConvergenceWarning: Regressors in active set degenerate. Dropping a regressor, after 40 iterations, i.e. alpha=4.412e-05, with an active set of 31 regressors, and the smallest cholesky pivot element being 6.322e-08. Reduce max_iter or increase eps parameters.\n",
            "  warnings.warn(\n",
            "/usr/local/lib/python3.8/dist-packages/sklearn/linear_model/_least_angle.py:652: ConvergenceWarning: Regressors in active set degenerate. Dropping a regressor, after 40 iterations, i.e. alpha=4.078e-05, with an active set of 31 regressors, and the smallest cholesky pivot element being 2.107e-08. Reduce max_iter or increase eps parameters.\n",
            "  warnings.warn(\n",
            "/usr/local/lib/python3.8/dist-packages/sklearn/linear_model/_least_angle.py:652: ConvergenceWarning: Regressors in active set degenerate. Dropping a regressor, after 40 iterations, i.e. alpha=2.910e-05, with an active set of 31 regressors, and the smallest cholesky pivot element being 9.424e-08. Reduce max_iter or increase eps parameters.\n",
            "  warnings.warn(\n",
            "/usr/local/lib/python3.8/dist-packages/sklearn/linear_model/_least_angle.py:652: ConvergenceWarning: Regressors in active set degenerate. Dropping a regressor, after 40 iterations, i.e. alpha=2.130e-05, with an active set of 31 regressors, and the smallest cholesky pivot element being 6.322e-08. Reduce max_iter or increase eps parameters.\n",
            "  warnings.warn(\n",
            "/usr/local/lib/python3.8/dist-packages/sklearn/linear_model/_least_angle.py:652: ConvergenceWarning: Regressors in active set degenerate. Dropping a regressor, after 40 iterations, i.e. alpha=1.973e-05, with an active set of 31 regressors, and the smallest cholesky pivot element being 5.162e-08. Reduce max_iter or increase eps parameters.\n",
            "  warnings.warn(\n",
            "/usr/local/lib/python3.8/dist-packages/sklearn/linear_model/_least_angle.py:652: ConvergenceWarning: Regressors in active set degenerate. Dropping a regressor, after 40 iterations, i.e. alpha=1.790e-05, with an active set of 31 regressors, and the smallest cholesky pivot element being 2.107e-08. Reduce max_iter or increase eps parameters.\n",
            "  warnings.warn(\n",
            "/usr/local/lib/python3.8/dist-packages/sklearn/linear_model/_least_angle.py:652: ConvergenceWarning: Regressors in active set degenerate. Dropping a regressor, after 40 iterations, i.e. alpha=1.750e-05, with an active set of 31 regressors, and the smallest cholesky pivot element being 4.470e-08. Reduce max_iter or increase eps parameters.\n",
            "  warnings.warn(\n",
            "/usr/local/lib/python3.8/dist-packages/sklearn/linear_model/_least_angle.py:652: ConvergenceWarning: Regressors in active set degenerate. Dropping a regressor, after 40 iterations, i.e. alpha=1.242e-05, with an active set of 31 regressors, and the smallest cholesky pivot element being 2.107e-08. Reduce max_iter or increase eps parameters.\n",
            "  warnings.warn(\n",
            "/usr/local/lib/python3.8/dist-packages/sklearn/linear_model/_least_angle.py:652: ConvergenceWarning: Regressors in active set degenerate. Dropping a regressor, after 40 iterations, i.e. alpha=2.621e-06, with an active set of 31 regressors, and the smallest cholesky pivot element being 2.980e-08. Reduce max_iter or increase eps parameters.\n",
            "  warnings.warn(\n"
          ]
        }
      ],
      "source": [
        "from sklearn.linear_model import lasso_path, enet_path, lars_path\n",
        "\n",
        "# LASSO\n",
        "alphas_lasso, coefs_lasso, _ = lasso_path(A, Y.flatten(), eps = 10e-3)\n",
        "\n",
        "# ElasticNet\n",
        "alphas_enet, coefs_enet, _ = enet_path(A, Y.flatten(), eps = 10e-3, l1_ratio=0.95)\n",
        "\n",
        "# LARS\n",
        "alphas_lars, _ , coefs_lars = lars_path(A, Y.flatten())"
      ]
    },
    {
      "cell_type": "code",
      "execution_count": null,
      "metadata": {
        "id": "w_Owp_Evt6iJ"
      },
      "outputs": [],
      "source": [
        "n_alphas = alphas_lasso.shape[0]\n",
        "Loss_lasso = np.zeros(n_alphas)\n",
        "Loss_enet = np.zeros(n_alphas)\n",
        "for i in range (n_alphas):\n",
        "  Loss_lasso[i] = np.linalg.norm(Y.flatten() - A@coefs_lasso[:,i])\n",
        "  Loss_enet[i] = np.linalg.norm(Y.flatten() - A@coefs_enet[:,i])\n",
        "\n",
        "n_alphas_lars = alphas_lars.shape[0]\n",
        "Loss_lars = np.zeros(n_alphas_lars)\n",
        "for i in range (n_alphas_lars):\n",
        "  Loss_lars[i] = np.linalg.norm(Y.flatten() - A@coefs_lars[:,i])"
      ]
    },
    {
      "cell_type": "code",
      "execution_count": null,
      "metadata": {
        "colab": {
          "base_uri": "https://localhost:8080/"
        },
        "id": "I-9timxorqSC",
        "outputId": "649f6e74-6c56-4f66-ab7a-176e3e29642c"
      },
      "outputs": [
        {
          "data": {
            "text/plain": [
              "(41,)"
            ]
          },
          "execution_count": 225,
          "metadata": {},
          "output_type": "execute_result"
        }
      ],
      "source": [
        "alphas_lars.shape"
      ]
    },
    {
      "cell_type": "markdown",
      "metadata": {
        "id": "2woB_JUabt-d"
      },
      "source": [
        "### LASSO_L1"
      ]
    },
    {
      "cell_type": "code",
      "execution_count": null,
      "metadata": {
        "colab": {
          "base_uri": "https://localhost:8080/",
          "height": 414
        },
        "id": "rnfAl0nEuVxK",
        "outputId": "c5c2aa43-fd56-40e7-dbb4-3d4aef993de6"
      },
      "outputs": [
        {
          "data": {
            "image/png": "[encoded data removed]",
            "text/plain": [
              "<Figure size 576x432 with 1 Axes>"
            ]
          },
          "metadata": {},
          "output_type": "display_data"
        }
      ],
      "source": [
        "plt.plot(alphas_lasso,Loss_lasso, '.')\n",
        "plt.xlabel(r\"$\\alpha$\")\n",
        "plt.ylabel(r\"Error norm\")\n",
        "plt.title(r\"Loss vs $\\alpha$ for LASSO\")\n",
        "plt.rcParams[\"figure.figsize\"] = (8,6)"
      ]
    },
    {
      "cell_type": "code",
      "execution_count": null,
      "metadata": {
        "colab": {
          "base_uri": "https://localhost:8080/"
        },
        "id": "TC-EHmkPO81n",
        "outputId": "44734fe1-6d6f-4bde-88ca-c0230f1d2431"
      },
      "outputs": [
        {
          "name": "stdout",
          "output_type": "stream",
          "text": [
            "[0 1 1 1 1 1 1 2 2 2 2 2 2 2 2 2 2 2 2 2 2 2 2 2 2 2 2 2 2 2 2 2 2 2 2 2 2\n",
            " 2 2 2 2 2 3 3 3 3 3 3 3 3 3 3 3 3 3 3 3 3 3 3 3 3 3 3 3 3 3 3 3 3 3 3 3 3\n",
            " 3 3 4 4 4 4 4 4 4 4 4 4 4 4 4 4 4 4 4 4 4 4 4 4 4 4]\n",
            "[7.69844631 6.80477142 1.84384885 0.38157148]\n"
          ]
        }
      ],
      "source": [
        "columns = (coefs_lasso != 0).sum(0)\n",
        "print(columns)\n",
        "max_sparsity = 3\n",
        "minLoss_lasso = np.zeros((max_sparsity)+1)\n",
        "for i in range(max_sparsity+1):\n",
        "  if len(columns[columns == i]) == 0:\n",
        "      minLoss_lasso[i] = 0\n",
        "  else:\n",
        "      minLoss_lasso[i] = np.min(Loss_lasso[columns == i])\n",
        "\n",
        "print(minLoss_lasso)"
      ]
    },
    {
      "cell_type": "code",
      "execution_count": null,
      "metadata": {
        "colab": {
          "base_uri": "https://localhost:8080/",
          "height": 413
        },
        "id": "ktdwNt3ic-Us",
        "outputId": "85d42d59-3153-4a2e-d107-3fbfaf01dc46"
      },
      "outputs": [
        {
          "data": {
            "image/png": "[encoded data removed]",
            "text/plain": [
              "<Figure size 576x432 with 1 Axes>"
            ]
          },
          "metadata": {},
          "output_type": "display_data"
        }
      ],
      "source": [
        "plt.plot(np.arange(max_sparsity)+1,minLoss_lasso[1:], '-o', label = 'LASSO')\n",
        "plt.plot(np.arange((max_sparsity))+1, Loss_MEP, '-d', label = 'MEP')\n",
        "plt.xlabel(r\"Sparsity Level\")\n",
        "plt.ylabel(r\"Error norm\")\n",
        "plt.title(r\"LASSO vs MEP\")\n",
        "plt.xticks(np.arange(max_sparsity)+1)\n",
        "plt.legend(loc = 'upper right')\n",
        "plt.rcParams[\"figure.figsize\"] = (8,6)"
      ]
    },
    {
      "cell_type": "markdown",
      "metadata": {
        "id": "dWAI-gxEfxpL"
      },
      "source": [
        "### ElasticNet"
      ]
    },
    {
      "cell_type": "code",
      "execution_count": null,
      "metadata": {
        "colab": {
          "base_uri": "https://localhost:8080/",
          "height": 415
        },
        "id": "DYIXA8gwMbnf",
        "outputId": "d9b39a7d-ba20-4f72-db96-ef7f0ff875f2"
      },
      "outputs": [
        {
          "data": {
            "image/png": "[encoded data removed]",
            "text/plain": [
              "<Figure size 576x432 with 1 Axes>"
            ]
          },
          "metadata": {},
          "output_type": "display_data"
        }
      ],
      "source": [
        "plt.plot(alphas_enet,Loss_enet, '.')\n",
        "plt.xlabel(r\"$\\alpha$\")\n",
        "plt.ylabel(r\"Error norm\")\n",
        "plt.title(r\"Loss vs $\\alpha$ for Elasticnet ($\\gamma = 0.95$)\")\n",
        "plt.rcParams[\"figure.figsize\"] = (8,6)"
      ]
    },
    {
      "cell_type": "code",
      "execution_count": null,
      "metadata": {
        "colab": {
          "base_uri": "https://localhost:8080/"
        },
        "id": "yd0Xz5bcgJ6r",
        "outputId": "138ed21b-f282-446d-a341-b0761d8618e7"
      },
      "outputs": [
        {
          "name": "stdout",
          "output_type": "stream",
          "text": [
            "[1 1 1 1 1 1 1 1 2 2 2 2 2 2 2 2 2 2 2 2 2 2 2 2 2 2 2 2 2 2 2 2 2 2 2 2 2\n",
            " 2 3 3 3 3 3 4 4 4 4 4 4 4 4 4 4 4 4 4 4 4 4 4 4 5 5 5 5 5 5 5 5 5 5 5 5 5\n",
            " 5 5 5 5 5 5 5 5 5 5 5 5 5 5 5 5 5 5 5 5 5 5 5 5 5 5]\n",
            "[7.69844631 6.80477142 1.84384885 0.38157148]\n"
          ]
        }
      ],
      "source": [
        "columns = (coefs_enet != 0).sum(0)\n",
        "print(columns)\n",
        "max_sparsity = 3\n",
        "minLoss_enet = np.zeros((max_sparsity)+1)\n",
        "for i in range(max_sparsity+1):\n",
        "  if len(columns[columns == i]) == 0:\n",
        "      minLoss_enet[i] = 0\n",
        "  else:\n",
        "      minLoss_enet[i] = np.min(Loss_lasso[columns == i])\n",
        "\n",
        "print(minLoss_lasso)"
      ]
    },
    {
      "cell_type": "code",
      "execution_count": null,
      "metadata": {
        "colab": {
          "base_uri": "https://localhost:8080/",
          "height": 413
        },
        "id": "-vp_0UjookfL",
        "outputId": "0e106aa0-f1e3-4a96-b12f-5e6c46d86cd8"
      },
      "outputs": [
        {
          "data": {
            "image/png": "[encoded data removed]",
            "text/plain": [
              "<Figure size 576x432 with 1 Axes>"
            ]
          },
          "metadata": {},
          "output_type": "display_data"
        }
      ],
      "source": [
        "plt.plot(np.arange(max_sparsity)+1,minLoss_enet[1:], '-o', label = 'Elastic Net')\n",
        "plt.plot(np.arange(max_sparsity)+1,minLoss_lasso[1:], '-o', label = 'LASSO')\n",
        "plt.plot(np.arange((max_sparsity))+1, Loss_MEP, '-d', label = 'MEP')\n",
        "plt.xlabel(r\"Sparsity Level\")\n",
        "plt.ylabel(r\"Error norm\")\n",
        "plt.title(r\"MEP vs LASSO, and ENET\")\n",
        "plt.xticks(np.arange(max_sparsity)+1)\n",
        "plt.legend(loc = 'upper right')\n",
        "plt.rcParams[\"figure.figsize\"] = (8,6)"
      ]
    },
    {
      "cell_type": "markdown",
      "metadata": {
        "id": "IfKl9lUlrUAR"
      },
      "source": [
        "### LARS"
      ]
    },
    {
      "cell_type": "code",
      "execution_count": null,
      "metadata": {
        "colab": {
          "base_uri": "https://localhost:8080/",
          "height": 414
        },
        "id": "xg72uDKRrVow",
        "outputId": "ad99cc26-23a7-49b3-b59b-950b2f0a6bd9"
      },
      "outputs": [
        {
          "data": {
            "image/png": "[encoded data removed]",
            "text/plain": [
              "<Figure size 576x432 with 1 Axes>"
            ]
          },
          "metadata": {},
          "output_type": "display_data"
        }
      ],
      "source": [
        "plt.plot(alphas_lars,Loss_lars, '.')\n",
        "plt.xlabel(r\"$\\alpha$\")\n",
        "plt.ylabel(r\"Error norm\")\n",
        "plt.title(r\"Loss vs $\\alpha$ for LARS\")\n",
        "plt.rcParams[\"figure.figsize\"] = (8,6)"
      ]
    },
    {
      "cell_type": "code",
      "execution_count": null,
      "metadata": {
        "colab": {
          "base_uri": "https://localhost:8080/"
        },
        "id": "5mRZR9VSsQxq",
        "outputId": "789f3cc7-d232-4093-fe9a-96ded9d71bc0"
      },
      "outputs": [
        {
          "name": "stdout",
          "output_type": "stream",
          "text": [
            "[ 0  1  2  3  4  5  6  7  8  9 10 11 12 13 14 15 16 17 18 19 20 21 22 23\n",
            " 23 23 24 24 25 25 26 26 26 26 27 27 28 29 30 31 31]\n",
            "[ 0  1  2  3  4  5  6  7  8  9 10 11 12 13 14 15 16 17 18 19 20 21 22 23\n",
            " 23 23 24 24 25 25 26 26 26 26 27 27 28 29 30 31 31]\n",
            "[7.69844631 6.69888546 1.83572437 0.35426385]\n"
          ]
        }
      ],
      "source": [
        "columns = (coefs_lars != 0).sum(0)\n",
        "print(columns)\n",
        "max_sparsity = 3\n",
        "minLoss_lars = np.zeros((max_sparsity)+1)\n",
        "for i in range(max_sparsity+1):\n",
        "  if len(columns[columns == i]) == 0:\n",
        "      minLoss_lars[i] = 0\n",
        "  else:\n",
        "      minLoss_lars[i] = np.min(Loss_lars[columns == i])\n",
        "\n",
        "print(columns)\n",
        "print(minLoss_lars)"
      ]
    },
    {
      "cell_type": "code",
      "execution_count": null,
      "metadata": {
        "colab": {
          "base_uri": "https://localhost:8080/",
          "height": 413
        },
        "id": "L24Zk4wbvBiZ",
        "outputId": "0235b9d8-f324-4117-e828-33d2d11cfc5d"
      },
      "outputs": [
        {
          "data": {
            "image/png": "[encoded data removed]",
            "text/plain": [
              "<Figure size 576x432 with 1 Axes>"
            ]
          },
          "metadata": {},
          "output_type": "display_data"
        }
      ],
      "source": [
        "plt.plot(np.arange(max_sparsity)+1,minLoss_lars[1:], '-o', label = 'LARS')\n",
        "plt.plot(np.arange(max_sparsity)+1,minLoss_enet[1:], '-o', label = 'Elastic Net')\n",
        "plt.plot(np.arange(max_sparsity)+1,minLoss_lasso[1:], '-o', label = 'LASSO')\n",
        "plt.plot(np.arange((max_sparsity))+1, Loss_MEP, '-d', label = 'MEP')\n",
        "plt.xlabel(r\"Sparsity Level\")\n",
        "plt.ylabel(r\"Error norm\")\n",
        "plt.title(r\"MEP vs LASSO, and ENET\")\n",
        "plt.xticks(np.arange(max_sparsity)+1)\n",
        "plt.legend(loc = 'upper right')\n",
        "plt.rcParams[\"figure.figsize\"] = (8,6)"
      ]
    },
    {
      "cell_type": "markdown",
      "metadata": {
        "id": "piHtD4dXAWRw"
      },
      "source": [
        "## Adaptive LASSO"
      ]
    },
    {
      "cell_type": "code",
      "execution_count": null,
      "metadata": {
        "id": "cBmTyCYj9sr4"
      },
      "outputs": [],
      "source": [
        "from sklearn.linear_model import Lasso\n",
        "from sklearn.utils import resample\n",
        "\n",
        "def adaptive_lasso(X, y, alpha, max_iter=1000, tol=1e-3):\n",
        "    \"\"\"\n",
        "    Adaptive Lasso algorithm for sparse linear regression\n",
        "    \n",
        "    Parameters\n",
        "    ----------\n",
        "    X : numpy array, shape (n_samples, n_features)\n",
        "        The design matrix\n",
        "    y : numpy array, shape (n_samples,)\n",
        "        The target values\n",
        "    alpha : float\n",
        "        The regularization strength\n",
        "    max_iter : int, optional (default=1000)\n",
        "        Maximum number of iterations for the coordinate descent solver\n",
        "    tol : float, optional (default=1e-4)\n",
        "        Tolerance for stopping criterion of the coordinate descent solver\n",
        "    \n",
        "    Returns\n",
        "    -------\n",
        "    w : numpy array, shape (n_features,)\n",
        "        The estimated coefficients\n",
        "    \"\"\"\n",
        "    n_samples, n_features = X.shape\n",
        "    w = np.zeros(n_features)\n",
        "    weights = np.ones(n_features)\n",
        "\n",
        "    for i in range(max_iter):\n",
        "        w_prev = w.copy()\n",
        "        for j in range(n_features):\n",
        "            X_j = X[:, j]\n",
        "            X_not_j = np.delete(X, j, axis=1)\n",
        "            w_not_j = np.delete(w, j)\n",
        "            y_pred = X_not_j.dot(w_not_j)\n",
        "            r = y - y_pred\n",
        "            # calculate the L1 penalty weight\n",
        "            z = weights[j] * alpha\n",
        "            # update the j-th weight using the Lasso regression\n",
        "            model = Lasso(alpha=z, max_iter=1e5, tol=tol)\n",
        "            model.fit(X_j.reshape(-1, 1), r)\n",
        "            w[j] = model.coef_[0]\n",
        "            # update the j-th weight using the Adaptive Lasso formula\n",
        "            weights[j] = 1.0 / np.abs(w[j] + 1e-10)\n",
        "        # check for convergence\n",
        "        if np.linalg.norm(w - w_prev) < tol:\n",
        "            break\n",
        "\n",
        "    return w\n"
      ]
    },
    {
      "cell_type": "code",
      "execution_count": null,
      "metadata": {
        "colab": {
          "base_uri": "https://localhost:8080/"
        },
        "id": "LQbrSPLz-SRx",
        "outputId": "32abc110-fdf3-46dc-e9ae-4fccb2a5b7fa"
      },
      "outputs": [
        {
          "name": "stdout",
          "output_type": "stream",
          "text": [
            "i = 20\n",
            "i = 40\n",
            "i = 60\n",
            "i = 80\n",
            "i = 100\n",
            "i = 120\n",
            "i = 140\n",
            "i = 160\n",
            "i = 180\n",
            "i = 200\n"
          ]
        }
      ],
      "source": [
        "n , N = A.shape\n",
        "alphas_alasso = np.concatenate((np.linspace(0.2, 0.01, 50), np.linspace(0.01, 0.0005, 150)))\n",
        "# alphas_alasso = np.linspace(0.3, 0.01, 100)\n",
        "coefs_alasso = np.zeros((N,len(alphas_alasso)))\n",
        "Loss_alasso = np.zeros(len(alphas_alasso))\n",
        "i = 0\n",
        "for alpha in alphas_alasso:\n",
        "    coefs_alasso[:,i] = adaptive_lasso(A, Y.flatten(), alpha)\n",
        "    Loss_alasso[i] = np.linalg.norm(Y.flatten() - A @ coefs_alasso[:,i])\n",
        "    i += 1\n",
        "    if np.mod(i,20) == 0:\n",
        "      print('i = ' + str(i))"
      ]
    },
    {
      "cell_type": "code",
      "execution_count": null,
      "metadata": {
        "colab": {
          "base_uri": "https://localhost:8080/",
          "height": 415
        },
        "id": "tmg-HuqC_kDn",
        "outputId": "0396a51c-cead-4d78-fa55-56d2c0dc6885"
      },
      "outputs": [
        {
          "data": {
            "image/png": "[encoded data removed]",
            "text/plain": [
              "<Figure size 576x432 with 1 Axes>"
            ]
          },
          "metadata": {},
          "output_type": "display_data"
        }
      ],
      "source": [
        "plt.plot(alphas_alasso,Loss_alasso, '.')\n",
        "plt.xlabel(r\"$\\alpha$\")\n",
        "plt.ylabel(r\"Error norm\")\n",
        "plt.title(r\"Loss vs $\\alpha$ for Adaptive LASSO\")\n",
        "plt.rcParams[\"figure.figsize\"] = (8,6)"
      ]
    },
    {
      "cell_type": "code",
      "execution_count": null,
      "metadata": {
        "colab": {
          "base_uri": "https://localhost:8080/"
        },
        "id": "LNb5_xsrA4jH",
        "outputId": "7f9f0b44-8554-4c0b-f97b-7c7526b80694"
      },
      "outputs": [
        {
          "name": "stdout",
          "output_type": "stream",
          "text": [
            "[0 0 0 0 0 0 0 0 0 0 1 1 1 1 1 1 1 1 1 1 1 2 2 2 2 2 2 2 2 2 2 2 2 2 2 2 2\n",
            " 2 2 2 2 2 2 2 2 2 2 2 2 2 2 2 2 2 2 2 2 2 2 2 2 2 2 2 2 2 2 2 2 2 2 2 2 2\n",
            " 2 2 2 2 2 2 2 2 2 2 2 2 2 2 2 2 2 2 2 2 2 2 2 2 2 2 2 2 2 2 2 2 2 2 2 2 2\n",
            " 2 2 2 2 2 2 2 2 2 2 2 2 2 2 2 2 2 2 2 2 2 2 2 2 2 2 2 2 2 2 2 2 2 2 2 2 2\n",
            " 2 2 2 2 2 2 2 2 2 2 2 2 2 2 2 2 2 2 2 2 2 2 2 2 2 2 2 2 2 2 2 2 2 2 2 2 2\n",
            " 2 2 2 2 2 2 2 3 3 3 3 3 3 3 4]\n",
            "[7.69844631 5.60544804 1.29080924 1.19665836]\n"
          ]
        }
      ],
      "source": [
        "columns = (coefs_alasso != 0).sum(0)\n",
        "print(columns)\n",
        "max_sparsity = 3\n",
        "minLoss_alasso = np.zeros((max_sparsity)+1)\n",
        "for i in range(max_sparsity+1):\n",
        "  if len(columns[columns == i]) == 0:\n",
        "      minLoss_lars[i] = 0\n",
        "  else:\n",
        "      minLoss_alasso[i] = np.min(Loss_alasso[columns == i])\n",
        "\n",
        "print(minLoss_alasso)"
      ]
    },
    {
      "cell_type": "code",
      "execution_count": null,
      "metadata": {
        "colab": {
          "base_uri": "https://localhost:8080/",
          "height": 427
        },
        "id": "ulsuTN2qmVcd",
        "outputId": "d7eeaa0f-8867-43af-ca8d-6973f3c2999f"
      },
      "outputs": [
        {
          "data": {
            "application/javascript": [
              "\n",
              "    async function download(id, filename, size) {\n",
              "      if (!google.colab.kernel.accessAllowed) {\n",
              "        return;\n",
              "      }\n",
              "      const div = document.createElement('div');\n",
              "      const label = document.createElement('label');\n",
              "      label.textContent = `Downloading \"${filename}\": `;\n",
              "      div.appendChild(label);\n",
              "      const progress = document.createElement('progress');\n",
              "      progress.max = size;\n",
              "      div.appendChild(progress);\n",
              "      document.body.appendChild(div);\n",
              "\n",
              "      const buffers = [];\n",
              "      let downloaded = 0;\n",
              "\n",
              "      const channel = await google.colab.kernel.comms.open(id);\n",
              "      // Send a message to notify the kernel that we're ready.\n",
              "      channel.send({})\n",
              "\n",
              "      for await (const message of channel.messages) {\n",
              "        // Send a message to notify the kernel that we're ready.\n",
              "        channel.send({})\n",
              "        if (message.buffers) {\n",
              "          for (const buffer of message.buffers) {\n",
              "            buffers.push(buffer);\n",
              "            downloaded += buffer.byteLength;\n",
              "            progress.value = downloaded;\n",
              "          }\n",
              "        }\n",
              "      }\n",
              "      const blob = new Blob(buffers, {type: 'application/binary'});\n",
              "      const a = document.createElement('a');\n",
              "      a.href = window.URL.createObjectURL(blob);\n",
              "      a.download = filename;\n",
              "      div.appendChild(a);\n",
              "      a.click();\n",
              "      div.remove();\n",
              "    }\n",
              "  "
            ],
            "text/plain": [
              "<IPython.core.display.Javascript object>"
            ]
          },
          "metadata": {},
          "output_type": "display_data"
        },
        {
          "data": {
            "application/javascript": [
              "download(\"download_5a3debfc-2810-48fa-a2f0-3a54c6048ca7\", \"Comparison.png\", 38815)"
            ],
            "text/plain": [
              "<IPython.core.display.Javascript object>"
            ]
          },
          "metadata": {},
          "output_type": "display_data"
        },
        {
          "data": {
            "image/png": "[encoded data removed]",
            "text/plain": [
              "<Figure size 576x432 with 1 Axes>"
            ]
          },
          "metadata": {},
          "output_type": "display_data"
        }
      ],
      "source": [
        "plt.plot(np.arange(max_sparsity)+1,Loss_MEP, '-d', label = 'MEP', markersize = 10)\n",
        "plt.plot(np.arange(max_sparsity)+1,minLoss_enet[1:], '-o', label = 'ENET')\n",
        "plt.plot(np.arange(max_sparsity)+1,minLoss_lasso[1:], '-o', label = 'LASSO')\n",
        "plt.plot(np.arange(max_sparsity)+1,minLoss_lars[1:], '-o', label = 'LARS')\n",
        "plt.plot(np.arange(max_sparsity)+1,minLoss_alasso[1:], '-o', label = 'Adaptive LASSO')\n",
        "plt.xlabel(r\"Sparsity Degree\", fontsize = 20)\n",
        "plt.ylabel(r\"Loss\", fontsize = 20)\n",
        "plt.title(r\"MEP vs ENET, LASSO, LARS, Adaptive LASSO\", fontsize = 20)\n",
        "plt.xticks(np.arange(len(minLoss_enet)-1)+1)\n",
        "plt.legend()\n",
        "plt.savefig(\"Comparison.png\")\n",
        "files.download(\"Comparison.png\")\n",
        "plt.rcParams[\"figure.figsize\"] = (8,6)"
      ]
    },
    {
      "cell_type": "markdown",
      "metadata": {
        "id": "_4rC3hcg9VDY"
      },
      "source": [
        "#LASSO Benchmarking Examples"
      ]
    },
    {
      "cell_type": "code",
      "execution_count": null,
      "metadata": {
        "colab": {
          "base_uri": "https://localhost:8080/"
        },
        "id": "lqRhJtpiDxBv",
        "outputId": "7d756c96-eda8-4479-deaa-17f110523399"
      },
      "outputs": [
        {
          "output_type": "stream",
          "name": "stdout",
          "text": [
            "Cloning into 'libsvmdata'...\n",
            "remote: Enumerating objects: 255, done.\u001b[K\n",
            "remote: Counting objects: 100% (102/102), done.\u001b[K\n",
            "remote: Compressing objects: 100% (28/28), done.\u001b[K\n",
            "remote: Total 255 (delta 78), reused 74 (delta 74), pack-reused 153\u001b[K\n",
            "Receiving objects: 100% (255/255), 47.22 KiB | 386.00 KiB/s, done.\n",
            "Resolving deltas: 100% (106/106), done.\n"
          ]
        }
      ],
      "source": [
        "!git clone https://github.com/mathurinm/libsvmdata"
      ]
    },
    {
      "cell_type": "code",
      "execution_count": null,
      "metadata": {
        "colab": {
          "base_uri": "https://localhost:8080/"
        },
        "id": "b4Run96FITRz",
        "outputId": "db295123-b8ff-489a-d3b1-bebd1818b3b6"
      },
      "outputs": [
        {
          "output_type": "stream",
          "name": "stdout",
          "text": [
            "Looking in indexes: https://pypi.org/simple, https://us-python.pkg.dev/colab-wheels/public/simple/\n",
            "Collecting git+https://github.com/mathurinm/libsvmdata\n",
            "  Cloning https://github.com/mathurinm/libsvmdata to /tmp/pip-req-build-o5wwwnl8\n",
            "  Running command git clone --filter=blob:none --quiet https://github.com/mathurinm/libsvmdata /tmp/pip-req-build-o5wwwnl8\n",
            "  Resolved https://github.com/mathurinm/libsvmdata to commit db34488c2ea6d654dc1c86d2277c722f39b1b7db\n",
            "  Preparing metadata (setup.py) ... \u001b[?25l\u001b[?25hdone\n",
            "Collecting download\n",
            "  Downloading download-0.3.5-py3-none-any.whl (8.8 kB)\n",
            "Requirement already satisfied: numpy>=1.12 in /usr/local/lib/python3.8/dist-packages (from libsvmdata==0.5.dev0) (1.22.4)\n",
            "Requirement already satisfied: scikit-learn in /usr/local/lib/python3.8/dist-packages (from libsvmdata==0.5.dev0) (1.2.1)\n",
            "Requirement already satisfied: scipy in /usr/local/lib/python3.8/dist-packages (from libsvmdata==0.5.dev0) (1.10.1)\n",
            "Requirement already satisfied: requests in /usr/local/lib/python3.8/dist-packages (from download->libsvmdata==0.5.dev0) (2.25.1)\n",
            "Requirement already satisfied: tqdm in /usr/local/lib/python3.8/dist-packages (from download->libsvmdata==0.5.dev0) (4.64.1)\n",
            "Requirement already satisfied: six in /usr/local/lib/python3.8/dist-packages (from download->libsvmdata==0.5.dev0) (1.15.0)\n",
            "Requirement already satisfied: joblib>=1.1.1 in /usr/local/lib/python3.8/dist-packages (from scikit-learn->libsvmdata==0.5.dev0) (1.2.0)\n",
            "Requirement already satisfied: threadpoolctl>=2.0.0 in /usr/local/lib/python3.8/dist-packages (from scikit-learn->libsvmdata==0.5.dev0) (3.1.0)\n",
            "Requirement already satisfied: idna<3,>=2.5 in /usr/local/lib/python3.8/dist-packages (from requests->download->libsvmdata==0.5.dev0) (2.10)\n",
            "Requirement already satisfied: certifi>=2017.4.17 in /usr/local/lib/python3.8/dist-packages (from requests->download->libsvmdata==0.5.dev0) (2022.12.7)\n",
            "Requirement already satisfied: chardet<5,>=3.0.2 in /usr/local/lib/python3.8/dist-packages (from requests->download->libsvmdata==0.5.dev0) (4.0.0)\n",
            "Requirement already satisfied: urllib3<1.27,>=1.21.1 in /usr/local/lib/python3.8/dist-packages (from requests->download->libsvmdata==0.5.dev0) (1.26.14)\n",
            "Building wheels for collected packages: libsvmdata\n",
            "  Building wheel for libsvmdata (setup.py) ... \u001b[?25l\u001b[?25hdone\n",
            "  Created wheel for libsvmdata: filename=libsvmdata-0.5.dev0-py3-none-any.whl size=7070 sha256=2a21ea86274376953593b9c4f8b1000da21887f6085bd755efc276e06aeb4619\n",
            "  Stored in directory: /tmp/pip-ephem-wheel-cache-2zd8age1/wheels/35/93/9d/698a5521ffa138c52dfdf10cc58b4ff5124ddbf42e28b58a68\n",
            "Successfully built libsvmdata\n",
            "Installing collected packages: download, libsvmdata\n",
            "Successfully installed download-0.3.5 libsvmdata-0.5.dev0\n"
          ]
        }
      ],
      "source": [
        "!pip install git+https://github.com/mathurinm/libsvmdata"
      ]
    },
    {
      "cell_type": "code",
      "execution_count": null,
      "metadata": {
        "id": "y1oRXw8ZHNJj"
      },
      "outputs": [],
      "source": [
        "import libsvmdata"
      ]
    },
    {
      "cell_type": "code",
      "execution_count": null,
      "metadata": {
        "id": "_vqAq-UZHJs8"
      },
      "outputs": [],
      "source": [
        "from libsvmdata import fetch_libsvm\n",
        "X_dbs, y_dbs = fetch_libsvm(\"diabetes\")"
      ]
    },
    {
      "cell_type": "code",
      "execution_count": null,
      "metadata": {
        "colab": {
          "base_uri": "https://localhost:8080/"
        },
        "id": "QTbPjRFrO_vT",
        "outputId": "1ac3c7e7-ae55-42d3-b1d9-cf4cf1fa705e"
      },
      "outputs": [
        {
          "name": "stdout",
          "output_type": "stream",
          "text": [
            "[ 0  3  3  3  4  4  4  5  8  8  8 10 10 10 12 13 13 13 14 14 15 16 17 17\n",
            " 16 17 19 18 18 18 19 20 19 19 20 20 21 23 24 24 23 22 23 26 25 25 26 25\n",
            " 25 25 25 27 28 28 26 25 26 26 27 30 32 31 30 29 28 29 29 30 31 31 31 31\n",
            " 33 32 32 32 33 34 35 35 35 36 36 36 36 37 35 34 34 32 32 33 33 36 37 37\n",
            " 37 38 39 39]\n"
          ]
        }
      ],
      "source": [
        "from sklearn.linear_model import lasso_path, enet_path, lars_path\n",
        "\n",
        "# LASSO\n",
        "alphas_lasso, coefs_lasso, _ = lasso_path(X_lkm, y_lkm, eps = 10e-3)\n",
        "\n",
        "n_alphas = alphas_lasso.shape[0]\n",
        "Loss_lasso = np.zeros(n_alphas)\n",
        "for i in range (n_alphas):\n",
        "  Loss_lasso[i] = np.linalg.norm(y_lkm - X_lkm @ coefs_lasso[:,i])\n",
        "\n",
        "columns = (coefs_lasso != 0).sum(0)\n",
        "print(columns)"
      ]
    },
    {
      "cell_type": "code",
      "source": [
        "y_dbs"
      ],
      "metadata": {
        "id": "L7dlb1inS6R3",
        "outputId": "ce8baae8-2245-4e3e-d5bb-896dd092e834",
        "colab": {
          "base_uri": "https://localhost:8080/"
        }
      },
      "execution_count": null,
      "outputs": [
        {
          "output_type": "execute_result",
          "data": {
            "text/plain": [
              "array([-1.,  1., -1.,  1., -1.,  1., -1.,  1., -1., -1.,  1., -1.,  1.,\n",
              "       -1., -1., -1., -1., -1.,  1., -1.,  1.,  1., -1., -1., -1., -1.,\n",
              "       -1.,  1.,  1.,  1.,  1., -1.,  1.,  1.,  1.,  1.,  1., -1., -1.,\n",
              "       -1.,  1.,  1.,  1., -1.,  1., -1.,  1.,  1., -1.,  1.,  1.,  1.,\n",
              "        1., -1.,  1.,  1., -1.,  1.,  1.,  1.,  1., -1.,  1.,  1., -1.,\n",
              "        1., -1.,  1.,  1.,  1., -1.,  1., -1.,  1.,  1.,  1.,  1.,  1.,\n",
              "       -1.,  1.,  1.,  1.,  1.,  1., -1.,  1.,  1.,  1., -1.,  1.,  1.,\n",
              "        1.,  1., -1.,  1.,  1.,  1.,  1.,  1., -1., -1.,  1.,  1.,  1.,\n",
              "        1.,  1.,  1.,  1.,  1., -1., -1., -1.,  1.,  1., -1., -1., -1.,\n",
              "        1.,  1.,  1., -1.,  1.,  1.,  1., -1., -1.,  1.,  1., -1., -1.,\n",
              "       -1., -1., -1.,  1.,  1.,  1.,  1.,  1.,  1.,  1.,  1.,  1.,  1.,\n",
              "       -1.,  1.,  1.,  1.,  1.,  1.,  1.,  1.,  1., -1.,  1., -1., -1.,\n",
              "        1.,  1.,  1., -1.,  1.,  1.,  1.,  1., -1., -1.,  1.,  1.,  1.,\n",
              "        1., -1., -1.,  1.,  1.,  1., -1.,  1., -1.,  1., -1.,  1.,  1.,\n",
              "        1.,  1.,  1., -1., -1., -1., -1., -1.,  1.,  1., -1., -1.,  1.,\n",
              "       -1.,  1., -1., -1., -1.,  1.,  1.,  1.,  1.,  1.,  1., -1., -1.,\n",
              "        1., -1.,  1.,  1.,  1., -1., -1., -1., -1.,  1., -1., -1., -1.,\n",
              "       -1.,  1.,  1.,  1.,  1.,  1., -1.,  1.,  1., -1., -1.,  1.,  1.,\n",
              "        1., -1., -1., -1., -1.,  1.,  1.,  1., -1., -1.,  1., -1.,  1.,\n",
              "        1.,  1.,  1.,  1.,  1.,  1.,  1., -1., -1.,  1.,  1.,  1., -1.,\n",
              "        1., -1.,  1.,  1., -1.,  1., -1.,  1.,  1., -1., -1.,  1.,  1.,\n",
              "        1.,  1.,  1., -1.,  1.,  1.,  1., -1.,  1.,  1., -1., -1.,  1.,\n",
              "        1., -1.,  1.,  1.,  1., -1., -1., -1.,  1.,  1., -1.,  1., -1.,\n",
              "        1., -1., -1.,  1., -1.,  1.,  1., -1.,  1., -1., -1.,  1.,  1.,\n",
              "       -1.,  1., -1.,  1.,  1., -1.,  1., -1.,  1., -1., -1., -1.,  1.,\n",
              "        1., -1.,  1., -1.,  1.,  1.,  1., -1.,  1.,  1.,  1.,  1., -1.,\n",
              "       -1., -1.,  1.,  1.,  1.,  1.,  1.,  1.,  1.,  1.,  1., -1.,  1.,\n",
              "        1.,  1.,  1.,  1., -1., -1., -1.,  1., -1., -1.,  1.,  1., -1.,\n",
              "        1.,  1., -1.,  1.,  1., -1., -1.,  1.,  1.,  1.,  1., -1.,  1.,\n",
              "        1., -1.,  1.,  1.,  1.,  1.,  1.,  1.,  1., -1., -1., -1.,  1.,\n",
              "        1., -1.,  1.,  1., -1.,  1.,  1., -1.,  1., -1., -1.,  1., -1.,\n",
              "        1., -1.,  1., -1.,  1., -1., -1.,  1.,  1.,  1.,  1., -1., -1.,\n",
              "        1., -1.,  1., -1.,  1.,  1.,  1.,  1., -1., -1.,  1., -1.,  1.,\n",
              "       -1.,  1.,  1.,  1.,  1.,  1., -1.,  1.,  1.,  1.,  1., -1.,  1.,\n",
              "        1., -1., -1., -1.,  1.,  1., -1.,  1.,  1., -1.,  1.,  1.,  1.,\n",
              "       -1.,  1.,  1., -1.,  1.,  1.,  1.,  1.,  1.,  1.,  1.,  1.,  1.,\n",
              "       -1.,  1.,  1.,  1.,  1.,  1.,  1.,  1., -1.,  1.,  1.,  1., -1.,\n",
              "        1.,  1.,  1., -1., -1.,  1.,  1.,  1.,  1.,  1.,  1.,  1., -1.,\n",
              "        1.,  1.,  1.,  1., -1.,  1.,  1.,  1., -1.,  1.,  1.,  1., -1.,\n",
              "        1.,  1.,  1., -1.,  1.,  1.,  1.,  1., -1., -1.,  1.,  1.,  1.,\n",
              "        1.,  1.,  1., -1.,  1.,  1.,  1.,  1.,  1.,  1.,  1.,  1.,  1.,\n",
              "        1.,  1., -1.,  1.,  1.,  1., -1., -1., -1., -1.,  1.,  1., -1.,\n",
              "       -1.,  1.,  1.,  1.,  1.,  1.,  1.,  1.,  1.,  1.,  1.,  1.,  1.,\n",
              "        1., -1., -1.,  1.,  1.,  1.,  1.,  1.,  1.,  1., -1.,  1.,  1.,\n",
              "        1.,  1.,  1.,  1.,  1., -1.,  1., -1., -1.,  1.,  1.,  1., -1.,\n",
              "        1., -1.,  1., -1.,  1., -1.,  1., -1.,  1.,  1., -1.,  1.,  1.,\n",
              "       -1.,  1.,  1.,  1.,  1., -1., -1.,  1., -1.,  1.,  1.,  1.,  1.,\n",
              "       -1., -1.,  1., -1.,  1.,  1.,  1., -1., -1.,  1.,  1.,  1.,  1.,\n",
              "        1.,  1.,  1.,  1.,  1.,  1., -1.,  1.,  1.,  1.,  1., -1.,  1.,\n",
              "        1., -1.,  1.,  1.,  1., -1.,  1.,  1.,  1., -1., -1., -1.,  1.,\n",
              "        1.,  1.,  1.,  1.,  1., -1.,  1.,  1.,  1., -1.,  1., -1., -1.,\n",
              "       -1., -1.,  1., -1., -1.,  1.,  1.,  1.,  1.,  1.,  1.,  1., -1.,\n",
              "       -1.,  1., -1.,  1.,  1., -1.,  1., -1.,  1.,  1.,  1.,  1.,  1.,\n",
              "       -1.,  1., -1.,  1., -1.,  1., -1., -1.,  1.,  1.,  1.,  1., -1.,\n",
              "       -1.,  1.,  1.,  1., -1.,  1., -1., -1.,  1.,  1., -1.,  1.,  1.,\n",
              "       -1., -1.,  1.,  1., -1.,  1.,  1., -1.,  1.,  1.,  1.,  1.,  1.,\n",
              "        1.,  1., -1., -1., -1.,  1.,  1.,  1.,  1.,  1.,  1., -1., -1.,\n",
              "        1.,  1., -1.,  1.,  1., -1.,  1., -1., -1., -1.,  1.,  1., -1.,\n",
              "       -1., -1.,  1., -1.,  1., -1.,  1., -1.,  1.,  1.,  1.,  1., -1.,\n",
              "        1.])"
            ]
          },
          "metadata": {},
          "execution_count": 6
        }
      ]
    },
    {
      "cell_type": "code",
      "execution_count": null,
      "metadata": {
        "id": "lHvHRXJ8Mh_T"
      },
      "outputs": [],
      "source": [
        "# alphas_t = np.linspace(min(alphas_lasso)//2.5, min(alphas_lasso),100)"
      ]
    },
    {
      "cell_type": "code",
      "execution_count": null,
      "metadata": {
        "id": "KHQ3QrDpJoqc"
      },
      "outputs": [],
      "source": [
        "# from sklearn.linear_model import lasso_path, enet_path, lars_path\n",
        "\n",
        "## LASSO\n",
        "# alphas_lasso, coefs_lasso, _ = lasso_path(X_brc, y_brc, eps = 10e-3, alphas = alphas_t/4900)"
      ]
    },
    {
      "cell_type": "code",
      "execution_count": null,
      "metadata": {
        "id": "ciQ_3FW2JrJD"
      },
      "outputs": [],
      "source": [
        "n_alphas = alphas_lasso.shape[0]\n",
        "Loss_lasso = np.zeros(n_alphas)\n",
        "for i in range (n_alphas):\n",
        "  Loss_lasso[i] = np.linalg.norm(y_lkm - X_lkm @ coefs_lasso[:,i])"
      ]
    },
    {
      "cell_type": "code",
      "execution_count": null,
      "metadata": {
        "colab": {
          "base_uri": "https://localhost:8080/"
        },
        "id": "HxNvYOCVLBaM",
        "outputId": "71fd1fb0-2b0a-4c2e-b411-64016a6da498"
      },
      "outputs": [
        {
          "name": "stdout",
          "output_type": "stream",
          "text": [
            "[ 0  3  3  3  4  4  4  5  8  8  8 10 10 10 12 13 13 13 14 14 15 16 17 17\n",
            " 16 17 19 18 18 18 19 20 19 19 20 20 21 23 24 24 23 22 23 26 25 25 26 25\n",
            " 25 25 25 27 28 28 26 25 26 26 27 30 32 31 30 29 28 29 29 30 31 31 31 31\n",
            " 33 32 32 32 33 34 35 35 35 36 36 36 36 37 35 34 34 32 32 33 33 36 37 37\n",
            " 37 38 39 39]\n"
          ]
        }
      ],
      "source": [
        "columns = (coefs_lasso != 0).sum(0)\n",
        "print(columns)"
      ]
    },
    {
      "cell_type": "code",
      "execution_count": null,
      "metadata": {
        "id": "zxJinY9_PxJ8"
      },
      "outputs": [],
      "source": [
        "N , n = X_lkm.shape"
      ]
    },
    {
      "cell_type": "code",
      "execution_count": null,
      "metadata": {
        "colab": {
          "base_uri": "https://localhost:8080/"
        },
        "id": "gz5Dw88ZKpYE",
        "outputId": "8c7c34bf-fcd4-4bd3-9fc1-0fb57e921d9c"
      },
      "outputs": [
        {
          "name": "stdout",
          "output_type": "stream",
          "text": [
            "[ 0  3  3  3  4  4  4  5  8  8  8 10 10 10 12 13 13 13 14 14 15 16 17 17\n",
            " 16 17 19 18 18 18 19 20 19 19 20 20 21 23 24 24 23 22 23 26 25 25 26 25\n",
            " 25 25 25 27 28 28 26 25 26 26 27 30 32 31 30 29 28 29 29 30 31 31 31 31\n",
            " 33 32 32 32 33 34 35 35 35 36 36 36 36 37 35 34 34 32 32 33 33 36 37 37\n",
            " 37 38 39 39]\n",
            "[6.164414   0.         0.         5.63513755 5.16526141 5.02463483\n",
            " 0.         0.         4.58203662 0.         4.15128506 0.\n",
            " 4.00949599 3.62627844 3.39572088 3.28503496 2.88108788 2.79128527\n",
            " 2.46587434 2.13038215 1.98258253 1.91335162 1.59831038 1.54083669\n",
            " 1.72190069 0.93730924 0.87763133 0.84992043 0.6614218  0.61036227\n",
            " 0.58564482]\n"
          ]
        }
      ],
      "source": [
        "max_sparsity = 30\n",
        "columns = (coefs_lasso != 0).sum(0)\n",
        "minLoss_lasso = np.zeros((max_sparsity)+1)\n",
        "for i in range(max_sparsity+1):\n",
        "  if len(columns[columns == i]) == 0:\n",
        "      minLoss_lasso[i] = 0\n",
        "  else:\n",
        "      minLoss_lasso[i] = np.min(Loss_lasso[columns == i])\n",
        "\n",
        "print(columns)\n",
        "print(minLoss_lasso)"
      ]
    },
    {
      "cell_type": "code",
      "execution_count": null,
      "metadata": {
        "colab": {
          "base_uri": "https://localhost:8080/",
          "height": 404
        },
        "id": "1QMrS3TtKhu9",
        "outputId": "e86887e2-8269-4f3a-e4f9-aef002dd8a20"
      },
      "outputs": [
        {
          "data": {
            "image/png": "[encoded data removed]",
            "text/plain": [
              "<Figure size 576x432 with 1 Axes>"
            ]
          },
          "metadata": {},
          "output_type": "display_data"
        }
      ],
      "source": [
        "plt.plot(np.arange((max_sparsity))+1,minLoss_lasso[1:], 'r-o')\n",
        "plt.xlabel(r\"Sparsity Level\")\n",
        "plt.ylabel(r\"Error norm\")\n",
        "plt.title(r\"LASSO Error for Leukemia Data\")\n",
        "plt.xticks(np.arange((max_sparsity))+1)\n",
        "plt.rcParams[\"figure.figsize\"] = (8,6)"
      ]
    },
    {
      "cell_type": "code",
      "execution_count": null,
      "metadata": {
        "colab": {
          "base_uri": "https://localhost:8080/"
        },
        "id": "_oNDDNN4sEfZ",
        "outputId": "6616591a-749e-4458-8490-1f6118d4fc83"
      },
      "outputs": [
        {
          "data": {
            "text/plain": [
              "array([7.55998, 7.95881, 6.19189, 4.322  , 8.16221, 4.2488 , 7.74971,\n",
              "       6.26657, 6.76121, 6.37658, 5.76677, 4.43953, 4.98854, 8.09452,\n",
              "       6.06521, 4.80567, 7.61485, 7.67742, 6.05276, 8.00756, 7.60042,\n",
              "       7.64478, 7.87535, 4.76996, 6.83153, 5.80195, 5.52368, 7.17145,\n",
              "       6.68162, 6.96084, 4.88009, 8.29407, 8.18531, 3.84648, 4.45749,\n",
              "       8.19396, 7.84043, 7.51151])"
            ]
          },
          "execution_count": 15,
          "metadata": {},
          "output_type": "execute_result"
        }
      ],
      "source": [
        "np.amax(X_lkm,1)"
      ]
    },
    {
      "cell_type": "code",
      "execution_count": null,
      "metadata": {
        "colab": {
          "base_uri": "https://localhost:8080/"
        },
        "id": "dz9xbGr3sLZK",
        "outputId": "3f76665c-280e-438f-b4f4-02f4b05611eb"
      },
      "outputs": [
        {
          "data": {
            "text/plain": [
              "array([ 1.,  1.,  1.,  1.,  1.,  1.,  1.,  1.,  1.,  1.,  1.,  1.,  1.,\n",
              "        1.,  1.,  1.,  1.,  1.,  1.,  1.,  1.,  1.,  1.,  1.,  1.,  1.,\n",
              "        1., -1., -1., -1., -1., -1., -1., -1., -1., -1., -1., -1.])"
            ]
          },
          "execution_count": 16,
          "metadata": {},
          "output_type": "execute_result"
        }
      ],
      "source": [
        "y_lkm"
      ]
    },
    {
      "cell_type": "markdown",
      "metadata": {
        "id": "0lnMsDQ2XPgD"
      },
      "source": [
        "## Signal Reconstruction Example"
      ]
    },
    {
      "cell_type": "markdown",
      "metadata": {
        "id": "fDPZVOBVi2gI"
      },
      "source": [
        "### Convex Optimization"
      ]
    },
    {
      "cell_type": "code",
      "execution_count": null,
      "metadata": {
        "id": "iPNdXbh3XUSN"
      },
      "outputs": [],
      "source": [
        "import numpy as np\n",
        "import matplotlib.pyplot as plt\n",
        "import os\n",
        "import sys\n",
        "from scipy.fftpack import dct, idct\n",
        "from scipy.optimize import minimize\n",
        "sys.path.append(os.path.join('..','UTILS'))"
      ]
    },
    {
      "cell_type": "code",
      "execution_count": null,
      "metadata": {
        "id": "J63tMMNqXd8z"
      },
      "outputs": [],
      "source": [
        "## Generate signal, DCT of signal\n",
        "\n",
        "n = 4096 # points in high resolution signal\n",
        "t = np.linspace(0,1,n)\n",
        "x = np.cos(2 * 97 * np.pi * t) + np.cos(2 * 777 * np.pi * t)\n",
        "xt = np.fft.fft(x) # Fourier transformed signal\n",
        "PSD = xt * np.conj(xt) / n # Power spectral density"
      ]
    },
    {
      "cell_type": "code",
      "execution_count": null,
      "metadata": {
        "id": "CriLM6eZXiDt"
      },
      "outputs": [],
      "source": [
        "## Randomly sample signal\n",
        "p = 128 # num. random samples, p = n/32\n",
        "perm = np.floor(np.random.rand(p) * n).astype(int)\n",
        "y = x[perm]"
      ]
    },
    {
      "cell_type": "code",
      "execution_count": null,
      "metadata": {
        "id": "yjXZdOlwXkcW"
      },
      "outputs": [],
      "source": [
        "## Solve compressed sensing problem\n",
        "Psi = dct(np.identity(n)) # Build Psi\n",
        "Theta = Psi[perm,:]       # Measure rows of Psi"
      ]
    },
    {
      "cell_type": "code",
      "execution_count": null,
      "metadata": {
        "id": "DATydc7RXnja"
      },
      "outputs": [],
      "source": [
        "## L1-Minimization using SciPy\n",
        "def L1_norm(x):\n",
        "    return np.linalg.norm(x,ord=1)\n",
        "\n",
        "constr = ({'type': 'eq', 'fun': lambda x:  Theta @ x - y})\n",
        "x0 = np.linalg.pinv(Theta) @ y \n",
        "res = minimize(L1_norm, x0, method='SLSQP',constraints=constr)\n",
        "s = res.x"
      ]
    },
    {
      "cell_type": "code",
      "execution_count": null,
      "metadata": {
        "id": "gidZHYxIX_RG"
      },
      "outputs": [],
      "source": [
        "xrecon_CVX = idct(s) # reconstruct full signal"
      ]
    },
    {
      "cell_type": "code",
      "execution_count": null,
      "metadata": {
        "id": "52yzRrOwYpiJ"
      },
      "outputs": [],
      "source": [
        "plt.rcParams['figure.figsize'] = [12, 12]\n",
        "plt.rcParams.update({'font.size': 18})"
      ]
    },
    {
      "cell_type": "code",
      "execution_count": null,
      "metadata": {
        "colab": {
          "base_uri": "https://localhost:8080/",
          "height": 830
        },
        "id": "gpjPFc-IXygh",
        "outputId": "7dec60ce-b46b-4de6-d925-000a18ebc2dc"
      },
      "outputs": [
        {
          "output_type": "stream",
          "name": "stderr",
          "text": [
            "/usr/local/lib/python3.8/dist-packages/matplotlib/cbook/__init__.py:1298: ComplexWarning: Casting complex values to real discards the imaginary part\n",
            "  return np.asarray(x, float)\n"
          ]
        },
        {
          "output_type": "display_data",
          "data": {
            "text/plain": [
              "<Figure size 864x864 with 4 Axes>"
            ],
            "image/png": "[encoded data removed]"
          },
          "metadata": {
            "needs_background": "light"
          }
        }
      ],
      "source": [
        "## Plot\n",
        "time_window = np.array([1024,1280])/4096\n",
        "freq = np.arange(n)\n",
        "L = int(np.floor(n/2))\n",
        "\n",
        "\n",
        "fig,axs = plt.subplots(2,2)\n",
        "fig.suptitle('Signal reconstruction using convex optimization')\n",
        "axs = axs.reshape(-1)\n",
        "\n",
        "axs[1].plot(freq[:L],PSD[:L],color='k',linewidth=2)\n",
        "axs[1].set_xlim(0, 1024)\n",
        "axs[1].set_ylim(0, 1200)\n",
        "\n",
        "axs[0].plot(t,x,color='k',linewidth=2)\n",
        "axs[0].plot(perm/n,y,color='r',marker='x',linewidth=0,ms=12,mew=4)\n",
        "axs[0].set_xlim(time_window[0],time_window[1])\n",
        "axs[0].set_ylim(-2, 2)\n",
        "\n",
        "axs[2].plot(t,xrecon_CVX,color='r',linewidth=2)\n",
        "axs[2].set_xlim(time_window[0],time_window[1])\n",
        "axs[2].set_ylim(-2, 2)\n",
        "\n",
        "xtrecon = np.fft.fft(xrecon_CVX,n) # computes the (fast) discrete fourier transform\n",
        "PSDrecon = xtrecon * np.conj(xtrecon)/n # Power spectrum (how much power in each freq)\n",
        "\n",
        "axs[3].plot(freq[:L],PSDrecon[:L],color='r',linewidth=2)\n",
        "axs[3].set_xlim(0, 1024)\n",
        "axs[3].set_ylim(0, 1200)\n",
        "\n",
        "plt.show()"
      ]
    },
    {
      "cell_type": "markdown",
      "metadata": {
        "id": "Yi75_giei-8K"
      },
      "source": [
        "### LASSO"
      ]
    },
    {
      "cell_type": "code",
      "execution_count": null,
      "metadata": {
        "id": "PAzIJA7UYXet"
      },
      "outputs": [],
      "source": [
        "from sklearn.linear_model import lasso_path, enet_path, lars_path\n",
        "\n",
        "# LASSO\n",
        "alphas_lasso, coefs_lasso, _ = lasso_path(Theta, y, eps = 10e-3)"
      ]
    },
    {
      "cell_type": "code",
      "execution_count": null,
      "metadata": {
        "id": "WpoWfeEOdIqs"
      },
      "outputs": [],
      "source": [
        "n_alphas = alphas_lasso.shape[0]\n",
        "Loss_lasso = np.zeros(n_alphas)\n",
        "for i in range (n_alphas):\n",
        "  Loss_lasso[i] = np.linalg.norm(y - Theta@coefs_lasso[:,i])"
      ]
    },
    {
      "cell_type": "code",
      "execution_count": null,
      "metadata": {
        "colab": {
          "base_uri": "https://localhost:8080/",
          "height": 426
        },
        "id": "A0v_kkGgdPpn",
        "outputId": "fcf3a662-3a92-482d-cc5f-31c03ce80cba"
      },
      "outputs": [
        {
          "output_type": "display_data",
          "data": {
            "text/plain": [
              "<Figure size 576x432 with 1 Axes>"
            ],
            "image/png": "[encoded data removed]"
          },
          "metadata": {
            "needs_background": "light"
          }
        }
      ],
      "source": [
        "plt.plot(alphas_lasso,Loss_lasso, '.')\n",
        "plt.xlabel(r\"$\\alpha$\")\n",
        "plt.ylabel(r\"Error norm\")\n",
        "plt.title(r\"Loss vs $\\alpha$ for LASSO\")\n",
        "plt.rcParams[\"figure.figsize\"] = (4,3)"
      ]
    },
    {
      "cell_type": "code",
      "execution_count": null,
      "metadata": {
        "colab": {
          "base_uri": "https://localhost:8080/"
        },
        "id": "vfN9FT5vdW-i",
        "outputId": "c0cccd86-13fa-48ba-c543-4ec9097960ad"
      },
      "outputs": [
        {
          "output_type": "stream",
          "name": "stdout",
          "text": [
            "[ 0  1  2  2  2  2  2  2  2  2  2  2  2  2  2  2  2  2  2  2  2  2  2  2\n",
            "  2  2  2  2  2  2  2  2  2  2  2  2  2  2  3  3  3  3  3  3  3  4  4  4\n",
            "  4  4  4  4  5  5  5  5  5  5  5  6  7  7  7  7  7  8  9 10 11 13 13 17\n",
            " 20 22 25 27 32 33 37 40 45 50 55 57 60 61 62 66 69 71 74 74 74 77 79 80\n",
            " 82 82 82 82]\n",
            "3.3044333980122214\n",
            "3.3044333980122214\n"
          ]
        }
      ],
      "source": [
        "columns = (coefs_lasso != 0).sum(0)\n",
        "print(columns)\n",
        "sparsity = 2\n",
        "min_index = np.argmin(Loss_lasso[columns == sparsity])\n",
        "min_Loss = np.min(Loss_lasso[columns == sparsity])\n",
        "coefs_lasso_sp = coefs_lasso[:,columns == sparsity]\n",
        "s_lasso = coefs_lasso_sp[:,min_index]\n",
        "print(min_Loss)\n",
        "print(np.linalg.norm(y - Theta @ s_lasso))"
      ]
    },
    {
      "cell_type": "code",
      "execution_count": null,
      "metadata": {
        "id": "TOfKDDT6iEDc"
      },
      "outputs": [],
      "source": [
        "xrecon_lasso = idct(s_lasso) # reconstruct full signal"
      ]
    },
    {
      "cell_type": "code",
      "execution_count": null,
      "metadata": {
        "colab": {
          "base_uri": "https://localhost:8080/",
          "height": 830
        },
        "id": "__rPz4PCdkcH",
        "outputId": "b7d9836c-b547-478a-b4a7-120eb26e276f"
      },
      "outputs": [
        {
          "output_type": "stream",
          "name": "stderr",
          "text": [
            "/usr/local/lib/python3.8/dist-packages/matplotlib/cbook/__init__.py:1298: ComplexWarning: Casting complex values to real discards the imaginary part\n",
            "  return np.asarray(x, float)\n"
          ]
        },
        {
          "output_type": "display_data",
          "data": {
            "text/plain": [
              "<Figure size 864x864 with 4 Axes>"
            ],
            "image/png": "[encoded data removed]"
          },
          "metadata": {
            "needs_background": "light"
          }
        }
      ],
      "source": [
        "## Plot\n",
        "plt.rcParams['figure.figsize'] = [12, 12]\n",
        "time_window = np.array([1024,1280])/4096\n",
        "freq = np.arange(n)\n",
        "L = int(np.floor(n/2))\n",
        "\n",
        "\n",
        "fig,axs = plt.subplots(2,2)\n",
        "fig.suptitle('Signal reconstruction using LASSO')\n",
        "axs = axs.reshape(-1)\n",
        "\n",
        "axs[1].plot(freq[:L],PSD[:L],color='k',linewidth=2)\n",
        "axs[1].set_xlim(0, 1024)\n",
        "axs[1].set_ylim(0, 1200)\n",
        "\n",
        "axs[0].plot(t,x,color='k',linewidth=2)\n",
        "axs[0].plot(perm/n,y,color='r',marker='x',linewidth=0,ms=12,mew=4)\n",
        "axs[0].set_xlim(time_window[0],time_window[1])\n",
        "axs[0].set_ylim(-2, 2)\n",
        "\n",
        "axs[2].plot(t,xrecon_lasso,color='r',linewidth=2)\n",
        "axs[2].set_xlim(time_window[0],time_window[1])\n",
        "axs[2].set_ylim(-2, 2)\n",
        "\n",
        "xtrecon = np.fft.fft(xrecon_lasso,n) # computes the (fast) discrete fourier transform\n",
        "PSDrecon = xtrecon * np.conj(xtrecon)/n # Power spectrum (how much power in each freq)\n",
        "\n",
        "axs[3].plot(freq[:L],PSDrecon[:L],color='r',linewidth=2)\n",
        "axs[3].set_xlim(0, 1024)\n",
        "axs[3].set_ylim(0, 1200)\n",
        "\n",
        "plt.show()"
      ]
    },
    {
      "cell_type": "markdown",
      "metadata": {
        "id": "g5g8RkWkjFbS"
      },
      "source": [
        "### MEP"
      ]
    },
    {
      "cell_type": "code",
      "execution_count": null,
      "metadata": {
        "colab": {
          "base_uri": "https://localhost:8080/"
        },
        "id": "WZWYx0WojGyd",
        "outputId": "79853277-45cc-4d9f-b85c-4527d0baac22"
      },
      "outputs": [
        {
          "metadata": {
            "tags": null
          },
          "name": "stdout",
          "output_type": "stream",
          "text": [
            "T =  10\n"
          ]
        },
        {
          "output_type": "stream",
          "name": "stderr",
          "text": [
            "<ipython-input-9-ae03b9924fc6>:53: OptimizeWarning: Unknown solver options: verbose\n",
            "  res = minimize(free_energy, z0, method='SLSQP', jac = free_energy_grad,\n",
            "<ipython-input-7-225926689667>:13: RuntimeWarning: divide by zero encountered in log\n",
            "  F = np.linalg.norm(Y - A @ Q @ x)**2 + x.T @ np.diag((La.T @ (Q * (1-Q)))[0]) @ x + T*np.ones((1,N))@(Qb*np.log(Qb) + (1-Qb)*np.log(1-Qb)) @ np.ones((m,1))\n",
            "<ipython-input-7-225926689667>:13: RuntimeWarning: invalid value encountered in multiply\n",
            "  F = np.linalg.norm(Y - A @ Q @ x)**2 + x.T @ np.diag((La.T @ (Q * (1-Q)))[0]) @ x + T*np.ones((1,N))@(Qb*np.log(Qb) + (1-Qb)*np.log(1-Qb)) @ np.ones((m,1))\n"
          ]
        },
        {
          "output_type": "stream",
          "name": "stdout",
          "text": [
            "Maximum p in each column: [0.00024504 0.00024504]\n",
            "T =  9.0\n"
          ]
        }
      ],
      "source": [
        "x_MEP_SR , Q_MEP_SR , _ , _ = MEP_SLR(Theta,y,m = 2,eps = 0.01, Tmax = 10)"
      ]
    },
    {
      "cell_type": "code",
      "execution_count": null,
      "metadata": {
        "id": "MLM966ShkfXc"
      },
      "outputs": [],
      "source": [
        "xrecon_MEP = idct(Q_MEP_SR @ x_MEP_SR) # reconstruct full signal"
      ]
    },
    {
      "cell_type": "code",
      "execution_count": null,
      "metadata": {
        "id": "aEdxdT2UlJGo"
      },
      "outputs": [],
      "source": [
        "## Plot\n",
        "plt.rcParams['figure.figsize'] = [12, 12]\n",
        "time_window = np.array([1024,1280])/4096\n",
        "freq = np.arange(n)\n",
        "L = int(np.floor(n/2))\n",
        "\n",
        "\n",
        "fig,axs = plt.subplots(2,2)\n",
        "fig.suptitle('Signal reconstruction using MEP')\n",
        "axs = axs.reshape(-1)\n",
        "\n",
        "axs[1].plot(freq[:L],PSD[:L],color='k',linewidth=2)\n",
        "axs[1].set_xlim(0, 1024)\n",
        "axs[1].set_ylim(0, 1200)\n",
        "\n",
        "axs[0].plot(t,x,color='k',linewidth=2)\n",
        "axs[0].plot(perm/n,y,color='r',marker='x',linewidth=0,ms=12,mew=4)\n",
        "axs[0].set_xlim(time_window[0],time_window[1])\n",
        "axs[0].set_ylim(-2, 2)\n",
        "\n",
        "axs[2].plot(t,xrecon_MEP,color='r',linewidth=2)\n",
        "axs[2].set_xlim(time_window[0],time_window[1])\n",
        "axs[2].set_ylim(-2, 2)\n",
        "\n",
        "xtrecon = np.fft.fft(xrecon_MEP,n) # computes the (fast) discrete fourier transform\n",
        "PSDrecon = xtrecon * np.conj(xtrecon)/n # Power spectrum (how much power in each freq)\n",
        "\n",
        "axs[3].plot(freq[:L],PSDrecon[:L],color='r',linewidth=2)\n",
        "axs[3].set_xlim(0, 1024)\n",
        "axs[3].set_ylim(0, 1200)\n",
        "\n",
        "plt.show()"
      ]
    }
  ],
  "metadata": {
    "colab": {
      "provenance": [],
      "authorship_tag": "ABX9TyNB/wE+SCXA+IE76rjUcvXb",
      "include_colab_link": true
    },
    "kernelspec": {
      "display_name": "Python 3",
      "name": "python3"
    },
    "language_info": {
      "name": "python"
    }
  },
  "nbformat": 4,
  "nbformat_minor": 0
}